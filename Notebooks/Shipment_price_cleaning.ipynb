{
  "cells": [
    {
      "cell_type": "code",
      "execution_count": 1,
      "metadata": {
        "id": "nmPUzNu3sSII"
      },
      "outputs": [],
      "source": [
        "import pandas as pd\n",
        "import numpy as np\n",
        "#pd.pandas.set_option('display.max_columns',None)\n",
        "#pd.pandas.set_option('display.max_rows',None)\n",
        "import matplotlib.pyplot as plt\n",
        "import seaborn as sns\n",
        "from pandas_profiling import ProfileReport\n",
        "%matplotlib inline\n",
        "import warnings\n",
        "warnings.filterwarnings('ignore')"
      ]
    },
    {
      "cell_type": "code",
      "execution_count": 2,
      "metadata": {
        "id": "yRMgMhzR0D9Y"
      },
      "outputs": [],
      "source": [
        "data = pd.read_csv('SCMS_Delivery_History_Dataset.csv')"
      ]
    },
    {
      "cell_type": "code",
      "execution_count": 3,
      "metadata": {
        "colab": {
          "base_uri": "https://localhost:8080/",
          "height": 887
        },
        "id": "RlI9SRzX0D9a",
        "outputId": "392472fa-85e9-4edf-9645-8466a189ec63"
      },
      "outputs": [
        {
          "output_type": "execute_result",
          "data": {
            "text/plain": [
              "          ID Project Code            PQ # PO / SO # ASN/DN #        Country  \\\n",
              "0          1   100-CI-T01  Pre-PQ Process    SCMS-4    ASN-8  Côte d'Ivoire   \n",
              "1          3   108-VN-T01  Pre-PQ Process   SCMS-13   ASN-85        Vietnam   \n",
              "2          4   100-CI-T01  Pre-PQ Process   SCMS-20   ASN-14  Côte d'Ivoire   \n",
              "3         15   108-VN-T01  Pre-PQ Process   SCMS-78   ASN-50        Vietnam   \n",
              "4         16   108-VN-T01  Pre-PQ Process   SCMS-81   ASN-55        Vietnam   \n",
              "...      ...          ...             ...       ...      ...            ...   \n",
              "10319  86818   103-ZW-T30       FPQ-15197  SO-50020  DN-4307       Zimbabwe   \n",
              "10320  86819   104-CI-T30       FPQ-15259  SO-50102  DN-4313  Côte d'Ivoire   \n",
              "10321  86821   110-ZM-T30       FPQ-14784  SO-49600  DN-4316         Zambia   \n",
              "10322  86822   200-ZW-T30       FPQ-16523  SO-51680  DN-4334       Zimbabwe   \n",
              "10323  86823   103-ZW-T30       FPQ-15197  SO-50022  DN-4336       Zimbabwe   \n",
              "\n",
              "      Managed By  Fulfill Via Vendor INCO Term Shipment Mode  ...  \\\n",
              "0       PMO - US  Direct Drop              EXW           Air  ...   \n",
              "1       PMO - US  Direct Drop              EXW           Air  ...   \n",
              "2       PMO - US  Direct Drop              FCA           Air  ...   \n",
              "3       PMO - US  Direct Drop              EXW           Air  ...   \n",
              "4       PMO - US  Direct Drop              EXW           Air  ...   \n",
              "...          ...          ...              ...           ...  ...   \n",
              "10319   PMO - US     From RDC   N/A - From RDC         Truck  ...   \n",
              "10320   PMO - US     From RDC   N/A - From RDC         Truck  ...   \n",
              "10321   PMO - US     From RDC   N/A - From RDC         Truck  ...   \n",
              "10322   PMO - US     From RDC   N/A - From RDC         Truck  ...   \n",
              "10323   PMO - US     From RDC   N/A - From RDC         Truck  ...   \n",
              "\n",
              "      Unit of Measure (Per Pack) Line Item Quantity Line Item Value  \\\n",
              "0                             30                 19          551.00   \n",
              "1                            240               1000         6200.00   \n",
              "2                            100                500        40000.00   \n",
              "3                             60              31920       127360.80   \n",
              "4                             60              38000       121600.00   \n",
              "...                          ...                ...             ...   \n",
              "10319                         60             166571       599655.60   \n",
              "10320                         60              21072       137389.44   \n",
              "10321                         30             514526      5140114.74   \n",
              "10322                         60              17465       113871.80   \n",
              "10323                         60              36639        72911.61   \n",
              "\n",
              "      Pack Price Unit Price              Manufacturing Site  \\\n",
              "0          29.00       0.97      Ranbaxy Fine Chemicals LTD   \n",
              "1           6.20       0.03       Aurobindo Unit III, India   \n",
              "2          80.00       0.80   ABBVIE GmbH & Co.KG Wiesbaden   \n",
              "3           3.99       0.07   Ranbaxy, Paonta Shahib, India   \n",
              "4           3.20       0.05       Aurobindo Unit III, India   \n",
              "...          ...        ...                             ...   \n",
              "10319       3.60       0.06      Mylan,  H-12 & H-13, India   \n",
              "10320       6.52       0.11    Hetero Unit III Hyderabad IN   \n",
              "10321       9.99       0.33   Cipla Ltd A-42 MIDC Mahar. IN   \n",
              "10322       6.52       0.11  Mylan (formerly Matrix) Nashik   \n",
              "10323       1.99       0.03               Cipla, Goa, India   \n",
              "\n",
              "      First Line Designation          Weight (Kilograms)  \\\n",
              "0                        Yes                          13   \n",
              "1                        Yes                         358   \n",
              "2                        Yes                         171   \n",
              "3                        Yes                        1855   \n",
              "4                        Yes                        7590   \n",
              "...                      ...                         ...   \n",
              "10319                     No     See DN-4307 (ID#:83920)   \n",
              "10320                     No     See DN-4313 (ID#:83921)   \n",
              "10321                     No  Weight Captured Separately   \n",
              "10322                    Yes                        1392   \n",
              "10323                     No  Weight Captured Separately   \n",
              "\n",
              "                       Freight Cost (USD) Line Item Insurance (USD)  \n",
              "0                                  780.34                       NaN  \n",
              "1                                  4521.5                       NaN  \n",
              "2                                 1653.78                       NaN  \n",
              "3                                16007.06                       NaN  \n",
              "4                                45450.08                       NaN  \n",
              "...                                   ...                       ...  \n",
              "10319             See DN-4307 (ID#:83920)                    705.79  \n",
              "10320             See DN-4313 (ID#:83921)                    161.71  \n",
              "10321  Freight Included in Commodity Cost                   5284.04  \n",
              "10322  Freight Included in Commodity Cost                    134.03  \n",
              "10323  Freight Included in Commodity Cost                     85.82  \n",
              "\n",
              "[10324 rows x 33 columns]"
            ],
            "text/html": [
              "\n",
              "  <div id=\"df-ab71824e-d5e7-45ab-9dc8-21441db6e725\">\n",
              "    <div class=\"colab-df-container\">\n",
              "      <div>\n",
              "<style scoped>\n",
              "    .dataframe tbody tr th:only-of-type {\n",
              "        vertical-align: middle;\n",
              "    }\n",
              "\n",
              "    .dataframe tbody tr th {\n",
              "        vertical-align: top;\n",
              "    }\n",
              "\n",
              "    .dataframe thead th {\n",
              "        text-align: right;\n",
              "    }\n",
              "</style>\n",
              "<table border=\"1\" class=\"dataframe\">\n",
              "  <thead>\n",
              "    <tr style=\"text-align: right;\">\n",
              "      <th></th>\n",
              "      <th>ID</th>\n",
              "      <th>Project Code</th>\n",
              "      <th>PQ #</th>\n",
              "      <th>PO / SO #</th>\n",
              "      <th>ASN/DN #</th>\n",
              "      <th>Country</th>\n",
              "      <th>Managed By</th>\n",
              "      <th>Fulfill Via</th>\n",
              "      <th>Vendor INCO Term</th>\n",
              "      <th>Shipment Mode</th>\n",
              "      <th>...</th>\n",
              "      <th>Unit of Measure (Per Pack)</th>\n",
              "      <th>Line Item Quantity</th>\n",
              "      <th>Line Item Value</th>\n",
              "      <th>Pack Price</th>\n",
              "      <th>Unit Price</th>\n",
              "      <th>Manufacturing Site</th>\n",
              "      <th>First Line Designation</th>\n",
              "      <th>Weight (Kilograms)</th>\n",
              "      <th>Freight Cost (USD)</th>\n",
              "      <th>Line Item Insurance (USD)</th>\n",
              "    </tr>\n",
              "  </thead>\n",
              "  <tbody>\n",
              "    <tr>\n",
              "      <th>0</th>\n",
              "      <td>1</td>\n",
              "      <td>100-CI-T01</td>\n",
              "      <td>Pre-PQ Process</td>\n",
              "      <td>SCMS-4</td>\n",
              "      <td>ASN-8</td>\n",
              "      <td>Côte d'Ivoire</td>\n",
              "      <td>PMO - US</td>\n",
              "      <td>Direct Drop</td>\n",
              "      <td>EXW</td>\n",
              "      <td>Air</td>\n",
              "      <td>...</td>\n",
              "      <td>30</td>\n",
              "      <td>19</td>\n",
              "      <td>551.00</td>\n",
              "      <td>29.00</td>\n",
              "      <td>0.97</td>\n",
              "      <td>Ranbaxy Fine Chemicals LTD</td>\n",
              "      <td>Yes</td>\n",
              "      <td>13</td>\n",
              "      <td>780.34</td>\n",
              "      <td>NaN</td>\n",
              "    </tr>\n",
              "    <tr>\n",
              "      <th>1</th>\n",
              "      <td>3</td>\n",
              "      <td>108-VN-T01</td>\n",
              "      <td>Pre-PQ Process</td>\n",
              "      <td>SCMS-13</td>\n",
              "      <td>ASN-85</td>\n",
              "      <td>Vietnam</td>\n",
              "      <td>PMO - US</td>\n",
              "      <td>Direct Drop</td>\n",
              "      <td>EXW</td>\n",
              "      <td>Air</td>\n",
              "      <td>...</td>\n",
              "      <td>240</td>\n",
              "      <td>1000</td>\n",
              "      <td>6200.00</td>\n",
              "      <td>6.20</td>\n",
              "      <td>0.03</td>\n",
              "      <td>Aurobindo Unit III, India</td>\n",
              "      <td>Yes</td>\n",
              "      <td>358</td>\n",
              "      <td>4521.5</td>\n",
              "      <td>NaN</td>\n",
              "    </tr>\n",
              "    <tr>\n",
              "      <th>2</th>\n",
              "      <td>4</td>\n",
              "      <td>100-CI-T01</td>\n",
              "      <td>Pre-PQ Process</td>\n",
              "      <td>SCMS-20</td>\n",
              "      <td>ASN-14</td>\n",
              "      <td>Côte d'Ivoire</td>\n",
              "      <td>PMO - US</td>\n",
              "      <td>Direct Drop</td>\n",
              "      <td>FCA</td>\n",
              "      <td>Air</td>\n",
              "      <td>...</td>\n",
              "      <td>100</td>\n",
              "      <td>500</td>\n",
              "      <td>40000.00</td>\n",
              "      <td>80.00</td>\n",
              "      <td>0.80</td>\n",
              "      <td>ABBVIE GmbH &amp; Co.KG Wiesbaden</td>\n",
              "      <td>Yes</td>\n",
              "      <td>171</td>\n",
              "      <td>1653.78</td>\n",
              "      <td>NaN</td>\n",
              "    </tr>\n",
              "    <tr>\n",
              "      <th>3</th>\n",
              "      <td>15</td>\n",
              "      <td>108-VN-T01</td>\n",
              "      <td>Pre-PQ Process</td>\n",
              "      <td>SCMS-78</td>\n",
              "      <td>ASN-50</td>\n",
              "      <td>Vietnam</td>\n",
              "      <td>PMO - US</td>\n",
              "      <td>Direct Drop</td>\n",
              "      <td>EXW</td>\n",
              "      <td>Air</td>\n",
              "      <td>...</td>\n",
              "      <td>60</td>\n",
              "      <td>31920</td>\n",
              "      <td>127360.80</td>\n",
              "      <td>3.99</td>\n",
              "      <td>0.07</td>\n",
              "      <td>Ranbaxy, Paonta Shahib, India</td>\n",
              "      <td>Yes</td>\n",
              "      <td>1855</td>\n",
              "      <td>16007.06</td>\n",
              "      <td>NaN</td>\n",
              "    </tr>\n",
              "    <tr>\n",
              "      <th>4</th>\n",
              "      <td>16</td>\n",
              "      <td>108-VN-T01</td>\n",
              "      <td>Pre-PQ Process</td>\n",
              "      <td>SCMS-81</td>\n",
              "      <td>ASN-55</td>\n",
              "      <td>Vietnam</td>\n",
              "      <td>PMO - US</td>\n",
              "      <td>Direct Drop</td>\n",
              "      <td>EXW</td>\n",
              "      <td>Air</td>\n",
              "      <td>...</td>\n",
              "      <td>60</td>\n",
              "      <td>38000</td>\n",
              "      <td>121600.00</td>\n",
              "      <td>3.20</td>\n",
              "      <td>0.05</td>\n",
              "      <td>Aurobindo Unit III, India</td>\n",
              "      <td>Yes</td>\n",
              "      <td>7590</td>\n",
              "      <td>45450.08</td>\n",
              "      <td>NaN</td>\n",
              "    </tr>\n",
              "    <tr>\n",
              "      <th>...</th>\n",
              "      <td>...</td>\n",
              "      <td>...</td>\n",
              "      <td>...</td>\n",
              "      <td>...</td>\n",
              "      <td>...</td>\n",
              "      <td>...</td>\n",
              "      <td>...</td>\n",
              "      <td>...</td>\n",
              "      <td>...</td>\n",
              "      <td>...</td>\n",
              "      <td>...</td>\n",
              "      <td>...</td>\n",
              "      <td>...</td>\n",
              "      <td>...</td>\n",
              "      <td>...</td>\n",
              "      <td>...</td>\n",
              "      <td>...</td>\n",
              "      <td>...</td>\n",
              "      <td>...</td>\n",
              "      <td>...</td>\n",
              "      <td>...</td>\n",
              "    </tr>\n",
              "    <tr>\n",
              "      <th>10319</th>\n",
              "      <td>86818</td>\n",
              "      <td>103-ZW-T30</td>\n",
              "      <td>FPQ-15197</td>\n",
              "      <td>SO-50020</td>\n",
              "      <td>DN-4307</td>\n",
              "      <td>Zimbabwe</td>\n",
              "      <td>PMO - US</td>\n",
              "      <td>From RDC</td>\n",
              "      <td>N/A - From RDC</td>\n",
              "      <td>Truck</td>\n",
              "      <td>...</td>\n",
              "      <td>60</td>\n",
              "      <td>166571</td>\n",
              "      <td>599655.60</td>\n",
              "      <td>3.60</td>\n",
              "      <td>0.06</td>\n",
              "      <td>Mylan,  H-12 &amp; H-13, India</td>\n",
              "      <td>No</td>\n",
              "      <td>See DN-4307 (ID#:83920)</td>\n",
              "      <td>See DN-4307 (ID#:83920)</td>\n",
              "      <td>705.79</td>\n",
              "    </tr>\n",
              "    <tr>\n",
              "      <th>10320</th>\n",
              "      <td>86819</td>\n",
              "      <td>104-CI-T30</td>\n",
              "      <td>FPQ-15259</td>\n",
              "      <td>SO-50102</td>\n",
              "      <td>DN-4313</td>\n",
              "      <td>Côte d'Ivoire</td>\n",
              "      <td>PMO - US</td>\n",
              "      <td>From RDC</td>\n",
              "      <td>N/A - From RDC</td>\n",
              "      <td>Truck</td>\n",
              "      <td>...</td>\n",
              "      <td>60</td>\n",
              "      <td>21072</td>\n",
              "      <td>137389.44</td>\n",
              "      <td>6.52</td>\n",
              "      <td>0.11</td>\n",
              "      <td>Hetero Unit III Hyderabad IN</td>\n",
              "      <td>No</td>\n",
              "      <td>See DN-4313 (ID#:83921)</td>\n",
              "      <td>See DN-4313 (ID#:83921)</td>\n",
              "      <td>161.71</td>\n",
              "    </tr>\n",
              "    <tr>\n",
              "      <th>10321</th>\n",
              "      <td>86821</td>\n",
              "      <td>110-ZM-T30</td>\n",
              "      <td>FPQ-14784</td>\n",
              "      <td>SO-49600</td>\n",
              "      <td>DN-4316</td>\n",
              "      <td>Zambia</td>\n",
              "      <td>PMO - US</td>\n",
              "      <td>From RDC</td>\n",
              "      <td>N/A - From RDC</td>\n",
              "      <td>Truck</td>\n",
              "      <td>...</td>\n",
              "      <td>30</td>\n",
              "      <td>514526</td>\n",
              "      <td>5140114.74</td>\n",
              "      <td>9.99</td>\n",
              "      <td>0.33</td>\n",
              "      <td>Cipla Ltd A-42 MIDC Mahar. IN</td>\n",
              "      <td>No</td>\n",
              "      <td>Weight Captured Separately</td>\n",
              "      <td>Freight Included in Commodity Cost</td>\n",
              "      <td>5284.04</td>\n",
              "    </tr>\n",
              "    <tr>\n",
              "      <th>10322</th>\n",
              "      <td>86822</td>\n",
              "      <td>200-ZW-T30</td>\n",
              "      <td>FPQ-16523</td>\n",
              "      <td>SO-51680</td>\n",
              "      <td>DN-4334</td>\n",
              "      <td>Zimbabwe</td>\n",
              "      <td>PMO - US</td>\n",
              "      <td>From RDC</td>\n",
              "      <td>N/A - From RDC</td>\n",
              "      <td>Truck</td>\n",
              "      <td>...</td>\n",
              "      <td>60</td>\n",
              "      <td>17465</td>\n",
              "      <td>113871.80</td>\n",
              "      <td>6.52</td>\n",
              "      <td>0.11</td>\n",
              "      <td>Mylan (formerly Matrix) Nashik</td>\n",
              "      <td>Yes</td>\n",
              "      <td>1392</td>\n",
              "      <td>Freight Included in Commodity Cost</td>\n",
              "      <td>134.03</td>\n",
              "    </tr>\n",
              "    <tr>\n",
              "      <th>10323</th>\n",
              "      <td>86823</td>\n",
              "      <td>103-ZW-T30</td>\n",
              "      <td>FPQ-15197</td>\n",
              "      <td>SO-50022</td>\n",
              "      <td>DN-4336</td>\n",
              "      <td>Zimbabwe</td>\n",
              "      <td>PMO - US</td>\n",
              "      <td>From RDC</td>\n",
              "      <td>N/A - From RDC</td>\n",
              "      <td>Truck</td>\n",
              "      <td>...</td>\n",
              "      <td>60</td>\n",
              "      <td>36639</td>\n",
              "      <td>72911.61</td>\n",
              "      <td>1.99</td>\n",
              "      <td>0.03</td>\n",
              "      <td>Cipla, Goa, India</td>\n",
              "      <td>No</td>\n",
              "      <td>Weight Captured Separately</td>\n",
              "      <td>Freight Included in Commodity Cost</td>\n",
              "      <td>85.82</td>\n",
              "    </tr>\n",
              "  </tbody>\n",
              "</table>\n",
              "<p>10324 rows × 33 columns</p>\n",
              "</div>\n",
              "      <button class=\"colab-df-convert\" onclick=\"convertToInteractive('df-ab71824e-d5e7-45ab-9dc8-21441db6e725')\"\n",
              "              title=\"Convert this dataframe to an interactive table.\"\n",
              "              style=\"display:none;\">\n",
              "        \n",
              "  <svg xmlns=\"http://www.w3.org/2000/svg\" height=\"24px\"viewBox=\"0 0 24 24\"\n",
              "       width=\"24px\">\n",
              "    <path d=\"M0 0h24v24H0V0z\" fill=\"none\"/>\n",
              "    <path d=\"M18.56 5.44l.94 2.06.94-2.06 2.06-.94-2.06-.94-.94-2.06-.94 2.06-2.06.94zm-11 1L8.5 8.5l.94-2.06 2.06-.94-2.06-.94L8.5 2.5l-.94 2.06-2.06.94zm10 10l.94 2.06.94-2.06 2.06-.94-2.06-.94-.94-2.06-.94 2.06-2.06.94z\"/><path d=\"M17.41 7.96l-1.37-1.37c-.4-.4-.92-.59-1.43-.59-.52 0-1.04.2-1.43.59L10.3 9.45l-7.72 7.72c-.78.78-.78 2.05 0 2.83L4 21.41c.39.39.9.59 1.41.59.51 0 1.02-.2 1.41-.59l7.78-7.78 2.81-2.81c.8-.78.8-2.07 0-2.86zM5.41 20L4 18.59l7.72-7.72 1.47 1.35L5.41 20z\"/>\n",
              "  </svg>\n",
              "      </button>\n",
              "      \n",
              "  <style>\n",
              "    .colab-df-container {\n",
              "      display:flex;\n",
              "      flex-wrap:wrap;\n",
              "      gap: 12px;\n",
              "    }\n",
              "\n",
              "    .colab-df-convert {\n",
              "      background-color: #E8F0FE;\n",
              "      border: none;\n",
              "      border-radius: 50%;\n",
              "      cursor: pointer;\n",
              "      display: none;\n",
              "      fill: #1967D2;\n",
              "      height: 32px;\n",
              "      padding: 0 0 0 0;\n",
              "      width: 32px;\n",
              "    }\n",
              "\n",
              "    .colab-df-convert:hover {\n",
              "      background-color: #E2EBFA;\n",
              "      box-shadow: 0px 1px 2px rgba(60, 64, 67, 0.3), 0px 1px 3px 1px rgba(60, 64, 67, 0.15);\n",
              "      fill: #174EA6;\n",
              "    }\n",
              "\n",
              "    [theme=dark] .colab-df-convert {\n",
              "      background-color: #3B4455;\n",
              "      fill: #D2E3FC;\n",
              "    }\n",
              "\n",
              "    [theme=dark] .colab-df-convert:hover {\n",
              "      background-color: #434B5C;\n",
              "      box-shadow: 0px 1px 3px 1px rgba(0, 0, 0, 0.15);\n",
              "      filter: drop-shadow(0px 1px 2px rgba(0, 0, 0, 0.3));\n",
              "      fill: #FFFFFF;\n",
              "    }\n",
              "  </style>\n",
              "\n",
              "      <script>\n",
              "        const buttonEl =\n",
              "          document.querySelector('#df-ab71824e-d5e7-45ab-9dc8-21441db6e725 button.colab-df-convert');\n",
              "        buttonEl.style.display =\n",
              "          google.colab.kernel.accessAllowed ? 'block' : 'none';\n",
              "\n",
              "        async function convertToInteractive(key) {\n",
              "          const element = document.querySelector('#df-ab71824e-d5e7-45ab-9dc8-21441db6e725');\n",
              "          const dataTable =\n",
              "            await google.colab.kernel.invokeFunction('convertToInteractive',\n",
              "                                                     [key], {});\n",
              "          if (!dataTable) return;\n",
              "\n",
              "          const docLinkHtml = 'Like what you see? Visit the ' +\n",
              "            '<a target=\"_blank\" href=https://colab.research.google.com/notebooks/data_table.ipynb>data table notebook</a>'\n",
              "            + ' to learn more about interactive tables.';\n",
              "          element.innerHTML = '';\n",
              "          dataTable['output_type'] = 'display_data';\n",
              "          await google.colab.output.renderOutput(dataTable, element);\n",
              "          const docLink = document.createElement('div');\n",
              "          docLink.innerHTML = docLinkHtml;\n",
              "          element.appendChild(docLink);\n",
              "        }\n",
              "      </script>\n",
              "    </div>\n",
              "  </div>\n",
              "  "
            ]
          },
          "metadata": {},
          "execution_count": 3
        }
      ],
      "source": [
        "data = pd.read_csv('SCMS_Delivery_History_Dataset.csv')\n",
        "data"
      ]
    },
    {
      "cell_type": "code",
      "execution_count": 4,
      "metadata": {
        "colab": {
          "base_uri": "https://localhost:8080/"
        },
        "id": "WeFcoq4zs6jL",
        "outputId": "d1a486f7-2b83-451e-cf9f-6a1502abc5f5"
      },
      "outputs": [
        {
          "output_type": "stream",
          "name": "stdout",
          "text": [
            "<class 'pandas.core.frame.DataFrame'>\n",
            "RangeIndex: 10324 entries, 0 to 10323\n",
            "Data columns (total 33 columns):\n",
            " #   Column                        Non-Null Count  Dtype  \n",
            "---  ------                        --------------  -----  \n",
            " 0   ID                            10324 non-null  int64  \n",
            " 1   Project Code                  10324 non-null  object \n",
            " 2   PQ #                          10324 non-null  object \n",
            " 3   PO / SO #                     10324 non-null  object \n",
            " 4   ASN/DN #                      10324 non-null  object \n",
            " 5   Country                       10324 non-null  object \n",
            " 6   Managed By                    10324 non-null  object \n",
            " 7   Fulfill Via                   10324 non-null  object \n",
            " 8   Vendor INCO Term              10324 non-null  object \n",
            " 9   Shipment Mode                 9964 non-null   object \n",
            " 10  PQ First Sent to Client Date  10324 non-null  object \n",
            " 11  PO Sent to Vendor Date        10324 non-null  object \n",
            " 12  Scheduled Delivery Date       10324 non-null  object \n",
            " 13  Delivered to Client Date      10324 non-null  object \n",
            " 14  Delivery Recorded Date        10324 non-null  object \n",
            " 15  Product Group                 10324 non-null  object \n",
            " 16  Sub Classification            10324 non-null  object \n",
            " 17  Vendor                        10324 non-null  object \n",
            " 18  Item Description              10324 non-null  object \n",
            " 19  Molecule/Test Type            10324 non-null  object \n",
            " 20  Brand                         10324 non-null  object \n",
            " 21  Dosage                        8588 non-null   object \n",
            " 22  Dosage Form                   10324 non-null  object \n",
            " 23  Unit of Measure (Per Pack)    10324 non-null  int64  \n",
            " 24  Line Item Quantity            10324 non-null  int64  \n",
            " 25  Line Item Value               10324 non-null  float64\n",
            " 26  Pack Price                    10324 non-null  float64\n",
            " 27  Unit Price                    10324 non-null  float64\n",
            " 28  Manufacturing Site            10324 non-null  object \n",
            " 29  First Line Designation        10324 non-null  object \n",
            " 30  Weight (Kilograms)            10324 non-null  object \n",
            " 31  Freight Cost (USD)            10324 non-null  object \n",
            " 32  Line Item Insurance (USD)     10037 non-null  float64\n",
            "dtypes: float64(4), int64(3), object(26)\n",
            "memory usage: 2.6+ MB\n"
          ]
        }
      ],
      "source": [
        "data.info()"
      ]
    },
    {
      "cell_type": "code",
      "execution_count": 5,
      "metadata": {
        "id": "Bo9iGmQ1s8jZ"
      },
      "outputs": [],
      "source": [
        "df = data.copy()"
      ]
    },
    {
      "cell_type": "code",
      "execution_count": 6,
      "metadata": {
        "colab": {
          "base_uri": "https://localhost:8080/"
        },
        "id": "cp60kNFotJnU",
        "outputId": "0baa2d50-7b0b-415f-a094-bbd3cc91e9c8"
      },
      "outputs": [
        {
          "output_type": "execute_result",
          "data": {
            "text/plain": [
              "(10324, 33)"
            ]
          },
          "metadata": {},
          "execution_count": 6
        }
      ],
      "source": [
        "df.shape"
      ]
    },
    {
      "cell_type": "markdown",
      "metadata": {
        "id": "ZVHXFW60tXxw"
      },
      "source": [
        "### Numeric columns"
      ]
    },
    {
      "cell_type": "code",
      "execution_count": 7,
      "metadata": {
        "colab": {
          "base_uri": "https://localhost:8080/"
        },
        "id": "CJeaytsptR-w",
        "outputId": "d82e7066-91ea-4f6f-c17c-34e096210e52"
      },
      "outputs": [
        {
          "output_type": "execute_result",
          "data": {
            "text/plain": [
              "['ID',\n",
              " 'Unit of Measure (Per Pack)',\n",
              " 'Line Item Quantity',\n",
              " 'Line Item Value',\n",
              " 'Pack Price',\n",
              " 'Unit Price',\n",
              " 'Line Item Insurance (USD)']"
            ]
          },
          "metadata": {},
          "execution_count": 7
        }
      ],
      "source": [
        "num_cols = [i for i in df.columns if df[i].dtype != 'O']\n",
        "num_cols"
      ]
    },
    {
      "cell_type": "code",
      "execution_count": 8,
      "metadata": {
        "colab": {
          "base_uri": "https://localhost:8080/"
        },
        "id": "MGn5TzzetcRZ",
        "outputId": "8ee77563-aacf-4199-f22d-5fc85af71bf6"
      },
      "outputs": [
        {
          "output_type": "stream",
          "name": "stdout",
          "text": [
            "<class 'pandas.core.frame.DataFrame'>\n",
            "RangeIndex: 10324 entries, 0 to 10323\n",
            "Data columns (total 7 columns):\n",
            " #   Column                      Non-Null Count  Dtype  \n",
            "---  ------                      --------------  -----  \n",
            " 0   ID                          10324 non-null  int64  \n",
            " 1   Unit of Measure (Per Pack)  10324 non-null  int64  \n",
            " 2   Line Item Quantity          10324 non-null  int64  \n",
            " 3   Line Item Value             10324 non-null  float64\n",
            " 4   Pack Price                  10324 non-null  float64\n",
            " 5   Unit Price                  10324 non-null  float64\n",
            " 6   Line Item Insurance (USD)   10037 non-null  float64\n",
            "dtypes: float64(4), int64(3)\n",
            "memory usage: 564.7 KB\n"
          ]
        }
      ],
      "source": [
        "df[num_cols].info()"
      ]
    },
    {
      "cell_type": "code",
      "execution_count": 9,
      "metadata": {
        "colab": {
          "base_uri": "https://localhost:8080/"
        },
        "id": "uPulNRX4tn5j",
        "outputId": "4c7bd517-a6d2-48ea-a482-55f7e182e4b5"
      },
      "outputs": [
        {
          "output_type": "execute_result",
          "data": {
            "text/plain": [
              "(['Unit of Measure (Per Pack)', 'Line Item Quantity'],\n",
              " ['Line Item Value', 'Pack Price', 'Unit Price', 'Line Item Insurance (USD)'])"
            ]
          },
          "metadata": {},
          "execution_count": 9
        }
      ],
      "source": [
        "discrete_cols = ['Unit of Measure (Per Pack)','Line Item Quantity']\n",
        "cont_cols = ['Line Item Value','Pack Price','Unit Price','Line Item Insurance (USD)']\n",
        "discrete_cols,cont_cols"
      ]
    },
    {
      "cell_type": "code",
      "execution_count": 10,
      "metadata": {
        "colab": {
          "base_uri": "https://localhost:8080/"
        },
        "id": "VWOWktCctq3u",
        "outputId": "cd60e8e3-2b8b-435f-ab5e-cc7ac6afb1e0"
      },
      "outputs": [
        {
          "output_type": "stream",
          "name": "stdout",
          "text": [
            "Unit of Measure (Per Pack) : 31 unique values\n",
            "Line Item Quantity : 5065 unique values\n",
            "Line Item Value : 8741 unique values\n",
            "Pack Price : 1175 unique values\n",
            "Unit Price : 183 unique values\n",
            "Line Item Insurance (USD) : 6723 unique values\n"
          ]
        }
      ],
      "source": [
        "print(*[f'{i} : {len(df[i].unique())} unique values' for i in num_cols if i not in ['ID']],sep='\\n')"
      ]
    },
    {
      "cell_type": "markdown",
      "metadata": {
        "id": "m-DQXVpWvhlO"
      },
      "source": [
        "### Discrete columns"
      ]
    },
    {
      "cell_type": "code",
      "execution_count": 11,
      "metadata": {
        "colab": {
          "base_uri": "https://localhost:8080/"
        },
        "id": "-CwXvgApvl-3",
        "outputId": "5fc618c7-4b8f-44c3-ee05-98fac10615fe"
      },
      "outputs": [
        {
          "output_type": "execute_result",
          "data": {
            "text/plain": [
              "Unit of Measure (Per Pack)    0\n",
              "Line Item Quantity            0\n",
              "dtype: int64"
            ]
          },
          "metadata": {},
          "execution_count": 11
        }
      ],
      "source": [
        "df[discrete_cols].isnull().sum()"
      ]
    },
    {
      "cell_type": "code",
      "execution_count": 12,
      "metadata": {
        "colab": {
          "base_uri": "https://localhost:8080/"
        },
        "id": "AaLxOV05tvGP",
        "outputId": "1eafc0c6-69c5-40a6-facb-31ea7458ae81"
      },
      "outputs": [
        {
          "output_type": "stream",
          "name": "stdout",
          "text": [
            "60      4121\n",
            "30      2630\n",
            "100      976\n",
            "240      670\n",
            "120      474\n",
            "20       470\n",
            "90       222\n",
            "300      157\n",
            "1        126\n",
            "25       114\n",
            "200       76\n",
            "180       76\n",
            "270       53\n",
            "336       39\n",
            "40        25\n",
            "84        22\n",
            "1000      16\n",
            "50        12\n",
            "3          8\n",
            "540        7\n",
            "720        5\n",
            "2          4\n",
            "5          4\n",
            "18         4\n",
            "36         3\n",
            "168        3\n",
            "24         2\n",
            "12         2\n",
            "160        1\n",
            "48         1\n",
            "144        1\n",
            "Name: Unit of Measure (Per Pack), dtype: int64\n",
            "10000    93\n",
            "1000     91\n",
            "100      87\n",
            "2000     73\n",
            "5000     69\n",
            "         ..\n",
            "814       1\n",
            "37680     1\n",
            "3939      1\n",
            "2607      1\n",
            "36639     1\n",
            "Name: Line Item Quantity, Length: 5065, dtype: int64\n"
          ]
        }
      ],
      "source": [
        "for i in discrete_cols:\n",
        "    print(df[i].value_counts())"
      ]
    },
    {
      "cell_type": "markdown",
      "metadata": {
        "id": "BkU0zxDyuWFg"
      },
      "source": [
        "Datas in the discrete columns are good, no data cleaning is required."
      ]
    },
    {
      "cell_type": "markdown",
      "metadata": {
        "id": "_qyizON2vFPt"
      },
      "source": [
        "#### Analysis:\n",
        "\n",
        "- The count is maximum with 60 Unit of Measure(Per Pack)\n",
        "- The count is maximum with 10,000 quantity in line Item"
      ]
    },
    {
      "cell_type": "code",
      "execution_count": 13,
      "metadata": {
        "colab": {
          "base_uri": "https://localhost:8080/"
        },
        "id": "vJhBuArh0D9u",
        "outputId": "bf2d8888-f13c-4236-bb25-dea9ea092d0c"
      },
      "outputs": [
        {
          "output_type": "execute_result",
          "data": {
            "text/plain": [
              "ID                                 0\n",
              "Project Code                       0\n",
              "PQ #                               0\n",
              "PO / SO #                          0\n",
              "ASN/DN #                           0\n",
              "Country                            0\n",
              "Managed By                         0\n",
              "Fulfill Via                        0\n",
              "Vendor INCO Term                   0\n",
              "Shipment Mode                    360\n",
              "PQ First Sent to Client Date       0\n",
              "PO Sent to Vendor Date             0\n",
              "Scheduled Delivery Date            0\n",
              "Delivered to Client Date           0\n",
              "Delivery Recorded Date             0\n",
              "Product Group                      0\n",
              "Sub Classification                 0\n",
              "Vendor                             0\n",
              "Item Description                   0\n",
              "Molecule/Test Type                 0\n",
              "Brand                              0\n",
              "Dosage                          1736\n",
              "Dosage Form                        0\n",
              "Unit of Measure (Per Pack)         0\n",
              "Line Item Quantity                 0\n",
              "Line Item Value                    0\n",
              "Pack Price                         0\n",
              "Unit Price                         0\n",
              "Manufacturing Site                 0\n",
              "First Line Designation             0\n",
              "Weight (Kilograms)                 0\n",
              "Freight Cost (USD)                 0\n",
              "Line Item Insurance (USD)        287\n",
              "dtype: int64"
            ]
          },
          "metadata": {},
          "execution_count": 13
        }
      ],
      "source": [
        "df.isnull().sum()"
      ]
    },
    {
      "cell_type": "markdown",
      "metadata": {
        "id": "y3Kj_YpOBIAy"
      },
      "source": [
        "### Continuous columns"
      ]
    },
    {
      "cell_type": "code",
      "execution_count": 14,
      "metadata": {
        "colab": {
          "base_uri": "https://localhost:8080/"
        },
        "id": "HKj1AwR8vHPT",
        "outputId": "57319763-1d85-4748-d533-dc4e238022d2"
      },
      "outputs": [
        {
          "output_type": "execute_result",
          "data": {
            "text/plain": [
              "Line Item Value                0\n",
              "Pack Price                     0\n",
              "Unit Price                     0\n",
              "Line Item Insurance (USD)    287\n",
              "dtype: int64"
            ]
          },
          "metadata": {},
          "execution_count": 14
        }
      ],
      "source": [
        "df[cont_cols].isnull().sum()"
      ]
    },
    {
      "cell_type": "markdown",
      "metadata": {
        "id": "JChdyNZvkR-5"
      },
      "source": [
        "#### Cleaning freight cost\n",
        "But freight cost is also continuous columns, but showing as object hence cleaning that feature."
      ]
    },
    {
      "cell_type": "code",
      "execution_count": 15,
      "metadata": {
        "id": "j2WRQ6kW0D9x"
      },
      "outputs": [],
      "source": [
        "def cleaning_feature(col):\n",
        "    value=[]\n",
        "    term = []\n",
        "    num = []\n",
        "    index = df[col].unique()\n",
        "    for i in index:\n",
        "        if i[0] == 'S':\n",
        "            value.append(i)\n",
        "    for j in value:\n",
        "        b = j.split(':')\n",
        "        term.append(b[1])\n",
        "    for i in term:\n",
        "        c = i.split(')')\n",
        "        num.append(int(c[0]))\n",
        "    for index,id_num in zip(value,num):\n",
        "        cost = df.iloc[np.where(df['ID'] == id_num)][col]\n",
        "        term = str(cost)\n",
        "        replace = term.split()[1]\n",
        "        df[col].mask(df[col] == index,replace,inplace=True)\n",
        "    return df[col].value_counts()"
      ]
    },
    {
      "cell_type": "code",
      "execution_count": 16,
      "metadata": {
        "colab": {
          "base_uri": "https://localhost:8080/"
        },
        "id": "8-GU06A80D9y",
        "outputId": "48c8aced-bcbf-4bd7-ea7c-f6cb30c934c6"
      },
      "outputs": [
        {
          "output_type": "execute_result",
          "data": {
            "text/plain": [
              "Freight Included in Commodity Cost    1442\n",
              "Invoiced Separately                    239\n",
              "Invoiced                               105\n",
              "9736.1                                  37\n",
              "7445.8                                  28\n",
              "                                      ... \n",
              "51243.69                                 1\n",
              "654.72                                   1\n",
              "2478.87                                  1\n",
              "9693.68                                  1\n",
              "3410                                     1\n",
              "Name: Freight Cost (USD), Length: 5435, dtype: int64"
            ]
          },
          "metadata": {},
          "execution_count": 16
        }
      ],
      "source": [
        "cleaning_feature('Freight Cost (USD)')"
      ]
    },
    {
      "cell_type": "code",
      "execution_count": 17,
      "metadata": {
        "colab": {
          "base_uri": "https://localhost:8080/"
        },
        "id": "anUfiv5_kmsa",
        "outputId": "46d58c2f-8ca6-4987-9829-344386bfe7f7"
      },
      "outputs": [
        {
          "output_type": "execute_result",
          "data": {
            "text/plain": [
              "(8538, 33)"
            ]
          },
          "metadata": {},
          "execution_count": 17
        }
      ],
      "source": [
        "a = np.where(df['Freight Cost (USD)'] == 'Freight Included in Commodity Cost')\n",
        "b = np.where(df['Freight Cost (USD)'] == 'Invoiced Separately')\n",
        "c = np.where(df['Freight Cost (USD)'] == 'Invoiced')\n",
        "d = np.concatenate((a,b,c),axis=None)\n",
        "sample = df.iloc[d]\n",
        "df.drop(sample.index,inplace = True)\n",
        "df['Freight Cost (USD)'] = df['Freight Cost (USD)'].astype('float64')\n",
        "df.shape"
      ]
    },
    {
      "cell_type": "code",
      "execution_count": 18,
      "metadata": {
        "colab": {
          "base_uri": "https://localhost:8080/"
        },
        "id": "tONSaOHM0D90",
        "outputId": "a2719500-3206-4794-9bbd-223f1a9db2aa"
      },
      "outputs": [
        {
          "output_type": "execute_result",
          "data": {
            "text/plain": [
              "112                           31\n",
              "54                            30\n",
              "2                             26\n",
              "6                             26\n",
              "Weight Captured Separately    23\n",
              "                              ..\n",
              "6304                           1\n",
              "4822                           1\n",
              "5623                           1\n",
              "1604                           1\n",
              "1547                           1\n",
              "Name: Weight (Kilograms), Length: 3318, dtype: int64"
            ]
          },
          "metadata": {},
          "execution_count": 18
        }
      ],
      "source": [
        "cleaning_feature('Weight (Kilograms)')"
      ]
    },
    {
      "cell_type": "code",
      "execution_count": 19,
      "metadata": {
        "colab": {
          "base_uri": "https://localhost:8080/"
        },
        "id": "2JUVqew_0D90",
        "outputId": "12d4271a-b5cc-4ec9-9fee-70448b1a2cb1"
      },
      "outputs": [
        {
          "output_type": "execute_result",
          "data": {
            "text/plain": [
              "9736.10     37\n",
              "7445.80     28\n",
              "6147.18     27\n",
              "7329.83     20\n",
              "9341.49     19\n",
              "            ..\n",
              "51243.69     1\n",
              "654.72       1\n",
              "2478.87      1\n",
              "9693.68      1\n",
              "3410.00      1\n",
              "Name: Weight (Kilograms), Length: 5432, dtype: int64"
            ]
          },
          "metadata": {},
          "execution_count": 19
        }
      ],
      "source": [
        "## Replacing the Weight Captured Seperately and Weight with 0\n",
        "df['Weight (Kilograms)'] = np.where(df['Weight (Kilograms)'] == 'Weight Captured Separately','0.0',df['Weight (Kilograms)'])\n",
        "df['Weight (Kilograms)'] = np.where(df['Weight (Kilograms)'] == 'Weight','0.0',df['Weight (Kilograms)'])\n",
        "df['Weight (Kilograms)'] = df['Freight Cost (USD)'].astype('float64')\n",
        "df['Weight (Kilograms)'].value_counts()"
      ]
    },
    {
      "cell_type": "code",
      "execution_count": 20,
      "metadata": {
        "id": "mshRzV10Ut5-"
      },
      "outputs": [],
      "source": [
        "df = df.reset_index(drop=True)"
      ]
    },
    {
      "cell_type": "markdown",
      "metadata": {
        "id": "Q-a4wLo_nacO"
      },
      "source": [
        "### Imputing the Line Item Insurance (USD)"
      ]
    },
    {
      "cell_type": "code",
      "execution_count": 21,
      "metadata": {
        "colab": {
          "base_uri": "https://localhost:8080/",
          "height": 298
        },
        "id": "jWuYnvh3TFM0",
        "outputId": "12fd5d82-600a-4473-8a4b-93a3b0bf45d6"
      },
      "outputs": [
        {
          "output_type": "execute_result",
          "data": {
            "text/plain": [
              "<matplotlib.axes._subplots.AxesSubplot at 0x7fa1cb493a90>"
            ]
          },
          "metadata": {},
          "execution_count": 21
        },
        {
          "output_type": "display_data",
          "data": {
            "text/plain": [
              "<Figure size 432x288 with 1 Axes>"
            ],
            "image/png": "[encoded data removed]"
          },
          "metadata": {
            "needs_background": "light"
          }
        }
      ],
      "source": [
        "df['sum']=df['Freight Cost (USD)']+df['Line Item Value']\n",
        "sns.scatterplot(df['sum'],df['Line Item Insurance (USD)'])"
      ]
    },
    {
      "cell_type": "markdown",
      "metadata": {
        "id": "5LmxdTekmBj-"
      },
      "source": [
        "#### Analysis:\n",
        "Since the Line item insurance depends on several factors such as total price of the goods, freight cost, destination, shipment mode etc. From the given data we can see that the sum of Line item value and the freightcost gives a linear relationship with the Line Item Insurance (USD). Hence imputing the insurance feature with linear regression algorithm."
      ]
    },
    {
      "cell_type": "code",
      "execution_count": 22,
      "metadata": {
        "id": "JE5FwM_FiyJ8"
      },
      "outputs": [],
      "source": [
        "missing_index = np.where(df['Line Item Insurance (USD)'].isnull())\n",
        "#print(df.iloc[missing_index].shape)\n",
        "#print(missing_index)"
      ]
    },
    {
      "cell_type": "code",
      "execution_count": 23,
      "metadata": {
        "id": "OwYUr5z6rqzU"
      },
      "outputs": [],
      "source": [
        "from sklearn.linear_model import LinearRegression\n",
        "def imputing_insurance():\n",
        "    df1=df.copy()\n",
        "    df1 = df1[['Line Item Value','Freight Cost (USD)','Line Item Insurance (USD)']]\n",
        "    df2 = df1.dropna()\n",
        "    X = df2.loc[:,('Line Item Value','Freight Cost (USD)')]\n",
        "    y = df2.loc[:,'Line Item Insurance (USD)']\n",
        "    model=LinearRegression()\n",
        "    model.fit(X,y)\n",
        "    df_null = df1[df1['Line Item Insurance (USD)'].isnull()]\n",
        "    X_null = df_null.loc[:,('Line Item Value','Freight Cost (USD)')]\n",
        "    predict=model.predict(X_null)\n",
        "    predict_series = pd.Series(predict,index=[  0,    1,    2,    3,    4,    5,    6,    7,    8,    9,   10,\n",
        "             11,   12,   14,   79,   80,   81,   82,   83,   84,   85,   86,\n",
        "             87,   88,   89,   91,   92,  170,  171,  172,  173,  174,  175,\n",
        "            176,  177,  178,  179,  180,  181,  182,  183,  184,  186,  250,\n",
        "            251,  252,  253,  254,  255,  256,  257,  314,  315,  316,  317,\n",
        "            318,  319,  320,  321,  322,  323,  324,  325,  326,  327,  328,\n",
        "            329,  330,  331,  400,  401,  402,  403,  404,  405,  406,  407,\n",
        "            408,  409,  410,  468,  469,  470,  471,  472,  473,  474,  475,\n",
        "            476,  477,  478,  479,  480,  544,  545,  546,  547,  548,  549,\n",
        "            550,  617,  618,  619,  620,  621,  622,  623,  624,  625,  626,\n",
        "            627,  628,  629,  630,  631,  632,  633,  634,  636,  637,  638,\n",
        "            639,  641,  642,  806,  807,  808,  809,  810,  811,  812,  813,\n",
        "            814,  815,  816,  817,  818,  819,  821,  822,  823,  824,  825,\n",
        "            826, 1005, 1006, 1007, 1008, 1009, 1010, 1011, 1012, 1013, 1014,\n",
        "           1015, 1016, 1017, 1018, 1019, 1020, 1021, 1022, 1023, 1026, 1029,\n",
        "           1178, 1179, 1180, 1181, 1182, 1183, 1184, 1185, 1186, 1187, 1188,\n",
        "           1189, 1190, 1191, 1192, 1193, 1197, 1198, 1200, 1201, 1202, 1203,\n",
        "           1204, 1403, 1404, 1405, 1406, 1407, 1408, 1409, 1410, 1411, 1412,\n",
        "           1413, 1414, 1415, 1416, 1417, 1418, 1419, 1420, 1424, 1425, 1426,\n",
        "           1626, 1627, 1628, 1629, 1630, 1631, 1632, 1633, 1634, 1635, 1636,\n",
        "           1637, 1638, 1641, 1642, 1643, 1644, 1645, 1646, 1647, 1649, 1832,\n",
        "           1833, 1834, 1835, 1836, 1837, 1838, 1839, 1842, 1843, 1844, 1846,\n",
        "           1847, 1848, 2019, 2020, 2021, 2022, 2023, 2024, 2025, 2026, 2027,\n",
        "           2028, 2029, 2030, 2031, 2032, 2033, 2034, 2035, 2037, 2038, 2039])\n",
        "    df1['Line Item Insurance (USD)'] = df1['Line Item Insurance (USD)'].fillna(predict_series)\n",
        "    df['Line Item Insurance (USD)'] = df1['Line Item Insurance (USD)']\n",
        "    return df.head()"
      ]
    },
    {
      "cell_type": "code",
      "execution_count": 24,
      "metadata": {
        "colab": {
          "base_uri": "https://localhost:8080/",
          "height": 456
        },
        "id": "gxsNInO80D99",
        "outputId": "c6572481-9042-48d4-8a7e-7f12929020ea"
      },
      "outputs": [
        {
          "output_type": "execute_result",
          "data": {
            "text/plain": [
              "   ID Project Code            PQ # PO / SO # ASN/DN #        Country  \\\n",
              "0   1   100-CI-T01  Pre-PQ Process    SCMS-4    ASN-8  Côte d'Ivoire   \n",
              "1   3   108-VN-T01  Pre-PQ Process   SCMS-13   ASN-85        Vietnam   \n",
              "2   4   100-CI-T01  Pre-PQ Process   SCMS-20   ASN-14  Côte d'Ivoire   \n",
              "3  15   108-VN-T01  Pre-PQ Process   SCMS-78   ASN-50        Vietnam   \n",
              "4  16   108-VN-T01  Pre-PQ Process   SCMS-81   ASN-55        Vietnam   \n",
              "\n",
              "  Managed By  Fulfill Via Vendor INCO Term Shipment Mode  ...  \\\n",
              "0   PMO - US  Direct Drop              EXW           Air  ...   \n",
              "1   PMO - US  Direct Drop              EXW           Air  ...   \n",
              "2   PMO - US  Direct Drop              FCA           Air  ...   \n",
              "3   PMO - US  Direct Drop              EXW           Air  ...   \n",
              "4   PMO - US  Direct Drop              EXW           Air  ...   \n",
              "\n",
              "  Line Item Quantity Line Item Value Pack Price Unit Price  \\\n",
              "0                 19           551.0      29.00       0.97   \n",
              "1               1000          6200.0       6.20       0.03   \n",
              "2                500         40000.0      80.00       0.80   \n",
              "3              31920        127360.8       3.99       0.07   \n",
              "4              38000        121600.0       3.20       0.05   \n",
              "\n",
              "              Manufacturing Site First Line Designation Weight (Kilograms)  \\\n",
              "0     Ranbaxy Fine Chemicals LTD                    Yes             780.34   \n",
              "1      Aurobindo Unit III, India                    Yes            4521.50   \n",
              "2  ABBVIE GmbH & Co.KG Wiesbaden                    Yes            1653.78   \n",
              "3  Ranbaxy, Paonta Shahib, India                    Yes           16007.06   \n",
              "4      Aurobindo Unit III, India                    Yes           45450.08   \n",
              "\n",
              "  Freight Cost (USD) Line Item Insurance (USD)        sum  \n",
              "0             780.34                 31.586199    1331.34  \n",
              "1            4521.50                 35.848354   10721.50  \n",
              "2            1653.78                 85.806624   41653.78  \n",
              "3           16007.06                193.851640  143367.86  \n",
              "4           45450.08                157.295484  167050.08  \n",
              "\n",
              "[5 rows x 34 columns]"
            ],
            "text/html": [
              "\n",
              "  <div id=\"df-1c9413b7-1f40-4fdf-8866-ddad5bb4ecee\">\n",
              "    <div class=\"colab-df-container\">\n",
              "      <div>\n",
              "<style scoped>\n",
              "    .dataframe tbody tr th:only-of-type {\n",
              "        vertical-align: middle;\n",
              "    }\n",
              "\n",
              "    .dataframe tbody tr th {\n",
              "        vertical-align: top;\n",
              "    }\n",
              "\n",
              "    .dataframe thead th {\n",
              "        text-align: right;\n",
              "    }\n",
              "</style>\n",
              "<table border=\"1\" class=\"dataframe\">\n",
              "  <thead>\n",
              "    <tr style=\"text-align: right;\">\n",
              "      <th></th>\n",
              "      <th>ID</th>\n",
              "      <th>Project Code</th>\n",
              "      <th>PQ #</th>\n",
              "      <th>PO / SO #</th>\n",
              "      <th>ASN/DN #</th>\n",
              "      <th>Country</th>\n",
              "      <th>Managed By</th>\n",
              "      <th>Fulfill Via</th>\n",
              "      <th>Vendor INCO Term</th>\n",
              "      <th>Shipment Mode</th>\n",
              "      <th>...</th>\n",
              "      <th>Line Item Quantity</th>\n",
              "      <th>Line Item Value</th>\n",
              "      <th>Pack Price</th>\n",
              "      <th>Unit Price</th>\n",
              "      <th>Manufacturing Site</th>\n",
              "      <th>First Line Designation</th>\n",
              "      <th>Weight (Kilograms)</th>\n",
              "      <th>Freight Cost (USD)</th>\n",
              "      <th>Line Item Insurance (USD)</th>\n",
              "      <th>sum</th>\n",
              "    </tr>\n",
              "  </thead>\n",
              "  <tbody>\n",
              "    <tr>\n",
              "      <th>0</th>\n",
              "      <td>1</td>\n",
              "      <td>100-CI-T01</td>\n",
              "      <td>Pre-PQ Process</td>\n",
              "      <td>SCMS-4</td>\n",
              "      <td>ASN-8</td>\n",
              "      <td>Côte d'Ivoire</td>\n",
              "      <td>PMO - US</td>\n",
              "      <td>Direct Drop</td>\n",
              "      <td>EXW</td>\n",
              "      <td>Air</td>\n",
              "      <td>...</td>\n",
              "      <td>19</td>\n",
              "      <td>551.0</td>\n",
              "      <td>29.00</td>\n",
              "      <td>0.97</td>\n",
              "      <td>Ranbaxy Fine Chemicals LTD</td>\n",
              "      <td>Yes</td>\n",
              "      <td>780.34</td>\n",
              "      <td>780.34</td>\n",
              "      <td>31.586199</td>\n",
              "      <td>1331.34</td>\n",
              "    </tr>\n",
              "    <tr>\n",
              "      <th>1</th>\n",
              "      <td>3</td>\n",
              "      <td>108-VN-T01</td>\n",
              "      <td>Pre-PQ Process</td>\n",
              "      <td>SCMS-13</td>\n",
              "      <td>ASN-85</td>\n",
              "      <td>Vietnam</td>\n",
              "      <td>PMO - US</td>\n",
              "      <td>Direct Drop</td>\n",
              "      <td>EXW</td>\n",
              "      <td>Air</td>\n",
              "      <td>...</td>\n",
              "      <td>1000</td>\n",
              "      <td>6200.0</td>\n",
              "      <td>6.20</td>\n",
              "      <td>0.03</td>\n",
              "      <td>Aurobindo Unit III, India</td>\n",
              "      <td>Yes</td>\n",
              "      <td>4521.50</td>\n",
              "      <td>4521.50</td>\n",
              "      <td>35.848354</td>\n",
              "      <td>10721.50</td>\n",
              "    </tr>\n",
              "    <tr>\n",
              "      <th>2</th>\n",
              "      <td>4</td>\n",
              "      <td>100-CI-T01</td>\n",
              "      <td>Pre-PQ Process</td>\n",
              "      <td>SCMS-20</td>\n",
              "      <td>ASN-14</td>\n",
              "      <td>Côte d'Ivoire</td>\n",
              "      <td>PMO - US</td>\n",
              "      <td>Direct Drop</td>\n",
              "      <td>FCA</td>\n",
              "      <td>Air</td>\n",
              "      <td>...</td>\n",
              "      <td>500</td>\n",
              "      <td>40000.0</td>\n",
              "      <td>80.00</td>\n",
              "      <td>0.80</td>\n",
              "      <td>ABBVIE GmbH &amp; Co.KG Wiesbaden</td>\n",
              "      <td>Yes</td>\n",
              "      <td>1653.78</td>\n",
              "      <td>1653.78</td>\n",
              "      <td>85.806624</td>\n",
              "      <td>41653.78</td>\n",
              "    </tr>\n",
              "    <tr>\n",
              "      <th>3</th>\n",
              "      <td>15</td>\n",
              "      <td>108-VN-T01</td>\n",
              "      <td>Pre-PQ Process</td>\n",
              "      <td>SCMS-78</td>\n",
              "      <td>ASN-50</td>\n",
              "      <td>Vietnam</td>\n",
              "      <td>PMO - US</td>\n",
              "      <td>Direct Drop</td>\n",
              "      <td>EXW</td>\n",
              "      <td>Air</td>\n",
              "      <td>...</td>\n",
              "      <td>31920</td>\n",
              "      <td>127360.8</td>\n",
              "      <td>3.99</td>\n",
              "      <td>0.07</td>\n",
              "      <td>Ranbaxy, Paonta Shahib, India</td>\n",
              "      <td>Yes</td>\n",
              "      <td>16007.06</td>\n",
              "      <td>16007.06</td>\n",
              "      <td>193.851640</td>\n",
              "      <td>143367.86</td>\n",
              "    </tr>\n",
              "    <tr>\n",
              "      <th>4</th>\n",
              "      <td>16</td>\n",
              "      <td>108-VN-T01</td>\n",
              "      <td>Pre-PQ Process</td>\n",
              "      <td>SCMS-81</td>\n",
              "      <td>ASN-55</td>\n",
              "      <td>Vietnam</td>\n",
              "      <td>PMO - US</td>\n",
              "      <td>Direct Drop</td>\n",
              "      <td>EXW</td>\n",
              "      <td>Air</td>\n",
              "      <td>...</td>\n",
              "      <td>38000</td>\n",
              "      <td>121600.0</td>\n",
              "      <td>3.20</td>\n",
              "      <td>0.05</td>\n",
              "      <td>Aurobindo Unit III, India</td>\n",
              "      <td>Yes</td>\n",
              "      <td>45450.08</td>\n",
              "      <td>45450.08</td>\n",
              "      <td>157.295484</td>\n",
              "      <td>167050.08</td>\n",
              "    </tr>\n",
              "  </tbody>\n",
              "</table>\n",
              "<p>5 rows × 34 columns</p>\n",
              "</div>\n",
              "      <button class=\"colab-df-convert\" onclick=\"convertToInteractive('df-1c9413b7-1f40-4fdf-8866-ddad5bb4ecee')\"\n",
              "              title=\"Convert this dataframe to an interactive table.\"\n",
              "              style=\"display:none;\">\n",
              "        \n",
              "  <svg xmlns=\"http://www.w3.org/2000/svg\" height=\"24px\"viewBox=\"0 0 24 24\"\n",
              "       width=\"24px\">\n",
              "    <path d=\"M0 0h24v24H0V0z\" fill=\"none\"/>\n",
              "    <path d=\"M18.56 5.44l.94 2.06.94-2.06 2.06-.94-2.06-.94-.94-2.06-.94 2.06-2.06.94zm-11 1L8.5 8.5l.94-2.06 2.06-.94-2.06-.94L8.5 2.5l-.94 2.06-2.06.94zm10 10l.94 2.06.94-2.06 2.06-.94-2.06-.94-.94-2.06-.94 2.06-2.06.94z\"/><path d=\"M17.41 7.96l-1.37-1.37c-.4-.4-.92-.59-1.43-.59-.52 0-1.04.2-1.43.59L10.3 9.45l-7.72 7.72c-.78.78-.78 2.05 0 2.83L4 21.41c.39.39.9.59 1.41.59.51 0 1.02-.2 1.41-.59l7.78-7.78 2.81-2.81c.8-.78.8-2.07 0-2.86zM5.41 20L4 18.59l7.72-7.72 1.47 1.35L5.41 20z\"/>\n",
              "  </svg>\n",
              "      </button>\n",
              "      \n",
              "  <style>\n",
              "    .colab-df-container {\n",
              "      display:flex;\n",
              "      flex-wrap:wrap;\n",
              "      gap: 12px;\n",
              "    }\n",
              "\n",
              "    .colab-df-convert {\n",
              "      background-color: #E8F0FE;\n",
              "      border: none;\n",
              "      border-radius: 50%;\n",
              "      cursor: pointer;\n",
              "      display: none;\n",
              "      fill: #1967D2;\n",
              "      height: 32px;\n",
              "      padding: 0 0 0 0;\n",
              "      width: 32px;\n",
              "    }\n",
              "\n",
              "    .colab-df-convert:hover {\n",
              "      background-color: #E2EBFA;\n",
              "      box-shadow: 0px 1px 2px rgba(60, 64, 67, 0.3), 0px 1px 3px 1px rgba(60, 64, 67, 0.15);\n",
              "      fill: #174EA6;\n",
              "    }\n",
              "\n",
              "    [theme=dark] .colab-df-convert {\n",
              "      background-color: #3B4455;\n",
              "      fill: #D2E3FC;\n",
              "    }\n",
              "\n",
              "    [theme=dark] .colab-df-convert:hover {\n",
              "      background-color: #434B5C;\n",
              "      box-shadow: 0px 1px 3px 1px rgba(0, 0, 0, 0.15);\n",
              "      filter: drop-shadow(0px 1px 2px rgba(0, 0, 0, 0.3));\n",
              "      fill: #FFFFFF;\n",
              "    }\n",
              "  </style>\n",
              "\n",
              "      <script>\n",
              "        const buttonEl =\n",
              "          document.querySelector('#df-1c9413b7-1f40-4fdf-8866-ddad5bb4ecee button.colab-df-convert');\n",
              "        buttonEl.style.display =\n",
              "          google.colab.kernel.accessAllowed ? 'block' : 'none';\n",
              "\n",
              "        async function convertToInteractive(key) {\n",
              "          const element = document.querySelector('#df-1c9413b7-1f40-4fdf-8866-ddad5bb4ecee');\n",
              "          const dataTable =\n",
              "            await google.colab.kernel.invokeFunction('convertToInteractive',\n",
              "                                                     [key], {});\n",
              "          if (!dataTable) return;\n",
              "\n",
              "          const docLinkHtml = 'Like what you see? Visit the ' +\n",
              "            '<a target=\"_blank\" href=https://colab.research.google.com/notebooks/data_table.ipynb>data table notebook</a>'\n",
              "            + ' to learn more about interactive tables.';\n",
              "          element.innerHTML = '';\n",
              "          dataTable['output_type'] = 'display_data';\n",
              "          await google.colab.output.renderOutput(dataTable, element);\n",
              "          const docLink = document.createElement('div');\n",
              "          docLink.innerHTML = docLinkHtml;\n",
              "          element.appendChild(docLink);\n",
              "        }\n",
              "      </script>\n",
              "    </div>\n",
              "  </div>\n",
              "  "
            ]
          },
          "metadata": {},
          "execution_count": 24
        }
      ],
      "source": [
        "imputing_insurance().head()"
      ]
    },
    {
      "cell_type": "code",
      "execution_count": 25,
      "metadata": {
        "colab": {
          "base_uri": "https://localhost:8080/"
        },
        "id": "3yDAQa0cr-jX",
        "outputId": "9fdd0241-4215-4ef2-c307-c803618094c9"
      },
      "outputs": [
        {
          "output_type": "execute_result",
          "data": {
            "text/plain": [
              "ID                                 0\n",
              "Project Code                       0\n",
              "PQ #                               0\n",
              "PO / SO #                          0\n",
              "ASN/DN #                           0\n",
              "Country                            0\n",
              "Managed By                         0\n",
              "Fulfill Via                        0\n",
              "Vendor INCO Term                   0\n",
              "Shipment Mode                    311\n",
              "PQ First Sent to Client Date       0\n",
              "PO Sent to Vendor Date             0\n",
              "Scheduled Delivery Date            0\n",
              "Delivered to Client Date           0\n",
              "Delivery Recorded Date             0\n",
              "Product Group                      0\n",
              "Sub Classification                 0\n",
              "Vendor                             0\n",
              "Item Description                   0\n",
              "Molecule/Test Type                 0\n",
              "Brand                              0\n",
              "Dosage                          1540\n",
              "Dosage Form                        0\n",
              "Unit of Measure (Per Pack)         0\n",
              "Line Item Quantity                 0\n",
              "Line Item Value                    0\n",
              "Pack Price                         0\n",
              "Unit Price                         0\n",
              "Manufacturing Site                 0\n",
              "First Line Designation             0\n",
              "Weight (Kilograms)                 0\n",
              "Freight Cost (USD)                 0\n",
              "Line Item Insurance (USD)          0\n",
              "sum                                0\n",
              "dtype: int64"
            ]
          },
          "metadata": {},
          "execution_count": 25
        }
      ],
      "source": [
        "df.isnull().sum()"
      ]
    },
    {
      "cell_type": "code",
      "execution_count": 27,
      "metadata": {
        "colab": {
          "base_uri": "https://localhost:8080/"
        },
        "id": "ug6zFyfC0D9_",
        "outputId": "4fddbf26-81c5-4748-e730-c1e432e5a3d8"
      },
      "outputs": [
        {
          "output_type": "execute_result",
          "data": {
            "text/plain": [
              "['ID',\n",
              " 'Unit of Measure (Per Pack)',\n",
              " 'Line Item Quantity',\n",
              " 'Line Item Value',\n",
              " 'Pack Price',\n",
              " 'Unit Price',\n",
              " 'Weight (Kilograms)',\n",
              " 'Freight Cost (USD)',\n",
              " 'Line Item Insurance (USD)',\n",
              " 'sum']"
            ]
          },
          "metadata": {},
          "execution_count": 27
        }
      ],
      "source": [
        "num_cols = [i for i in df.columns if df[i].dtype != 'O']\n",
        "num_cols"
      ]
    },
    {
      "cell_type": "code",
      "execution_count": 28,
      "metadata": {
        "colab": {
          "base_uri": "https://localhost:8080/"
        },
        "id": "fF_pWYiO0D9_",
        "outputId": "c2c6bf4a-a438-4fc1-aa58-08489fc14f1e"
      },
      "outputs": [
        {
          "output_type": "stream",
          "name": "stdout",
          "text": [
            "<class 'pandas.core.frame.DataFrame'>\n",
            "RangeIndex: 8538 entries, 0 to 8537\n",
            "Data columns (total 10 columns):\n",
            " #   Column                      Non-Null Count  Dtype  \n",
            "---  ------                      --------------  -----  \n",
            " 0   ID                          8538 non-null   int64  \n",
            " 1   Unit of Measure (Per Pack)  8538 non-null   int64  \n",
            " 2   Line Item Quantity          8538 non-null   int64  \n",
            " 3   Line Item Value             8538 non-null   float64\n",
            " 4   Pack Price                  8538 non-null   float64\n",
            " 5   Unit Price                  8538 non-null   float64\n",
            " 6   Weight (Kilograms)          8538 non-null   float64\n",
            " 7   Freight Cost (USD)          8538 non-null   float64\n",
            " 8   Line Item Insurance (USD)   8538 non-null   float64\n",
            " 9   sum                         8538 non-null   float64\n",
            "dtypes: float64(7), int64(3)\n",
            "memory usage: 667.2 KB\n"
          ]
        }
      ],
      "source": [
        "df[num_cols].info()"
      ]
    },
    {
      "cell_type": "code",
      "execution_count": 29,
      "metadata": {
        "colab": {
          "base_uri": "https://localhost:8080/"
        },
        "id": "A4wFDUtm0D-A",
        "outputId": "b0d85da2-4b4a-4727-97eb-caae5f146856"
      },
      "outputs": [
        {
          "output_type": "execute_result",
          "data": {
            "text/plain": [
              "(['Unit of Measure (Per Pack)', 'Line Item Quantity'],\n",
              " ['Line Item Value',\n",
              "  'Pack Price',\n",
              "  'Unit Price',\n",
              "  'Line Item Insurance (USD)',\n",
              "  'Freight Cost (USD)',\n",
              "  'Line Item Insurance (USD)'])"
            ]
          },
          "metadata": {},
          "execution_count": 29
        }
      ],
      "source": [
        "discrete_cols = ['Unit of Measure (Per Pack)','Line Item Quantity']\n",
        "cont_cols = ['Line Item Value','Pack Price','Unit Price','Line Item Insurance (USD)','Freight Cost (USD)','Line Item Insurance (USD)']\n",
        "discrete_cols,cont_cols"
      ]
    },
    {
      "cell_type": "markdown",
      "metadata": {
        "id": "01RC-2K00D-A"
      },
      "source": [
        "### Categorical columns"
      ]
    },
    {
      "cell_type": "code",
      "execution_count": 30,
      "metadata": {
        "colab": {
          "base_uri": "https://localhost:8080/"
        },
        "id": "xQ63NvNT0D-A",
        "outputId": "7d0d53e5-9fa5-4f0a-d0a8-9ab30b8fa556"
      },
      "outputs": [
        {
          "output_type": "execute_result",
          "data": {
            "text/plain": [
              "24"
            ]
          },
          "metadata": {},
          "execution_count": 30
        }
      ],
      "source": [
        "catg_cols = [i for i in df.columns if df[i].dtype == 'O']\n",
        "len(catg_cols)"
      ]
    },
    {
      "cell_type": "code",
      "execution_count": 31,
      "metadata": {
        "colab": {
          "base_uri": "https://localhost:8080/"
        },
        "id": "qggyXc7Q0D-B",
        "outputId": "64e69c6a-6d3b-4e1b-d220-082080ebef33"
      },
      "outputs": [
        {
          "output_type": "stream",
          "name": "stdout",
          "text": [
            "Project Code : 132 unique values\n",
            "PQ # : 1153 unique values\n",
            "PO / SO # : 5595 unique values\n",
            "ASN/DN # : 6198 unique values\n",
            "Country : 39 unique values\n",
            "Managed By : 2 unique values\n",
            "Fulfill Via : 2 unique values\n",
            "Vendor INCO Term : 8 unique values\n",
            "Shipment Mode : 5 unique values\n",
            "PQ First Sent to Client Date : 720 unique values\n",
            "PO Sent to Vendor Date : 806 unique values\n",
            "Scheduled Delivery Date : 1908 unique values\n",
            "Delivered to Client Date : 1997 unique values\n",
            "Delivery Recorded Date : 1947 unique values\n",
            "Product Group : 5 unique values\n",
            "Sub Classification : 6 unique values\n",
            "Vendor : 55 unique values\n",
            "Item Description : 167 unique values\n",
            "Molecule/Test Type : 84 unique values\n",
            "Brand : 45 unique values\n",
            "Dosage : 54 unique values\n",
            "Dosage Form : 17 unique values\n",
            "Manufacturing Site : 79 unique values\n",
            "First Line Designation : 2 unique values\n"
          ]
        }
      ],
      "source": [
        "## Checking unique values in the categorical columns\n",
        "print(*[f'{i} : {len(df[i].unique())} unique values' for i in catg_cols],sep='\\n')"
      ]
    },
    {
      "cell_type": "code",
      "execution_count": 32,
      "metadata": {
        "colab": {
          "base_uri": "https://localhost:8080/"
        },
        "id": "qnH73s0C0D-B",
        "outputId": "d303966c-3017-4596-852d-c19096e91e20"
      },
      "outputs": [
        {
          "output_type": "execute_result",
          "data": {
            "text/plain": [
              "['Managed By',\n",
              " 'Fulfill Via',\n",
              " 'Vendor INCO Term',\n",
              " 'Shipment Mode',\n",
              " 'Product Group',\n",
              " 'Sub Classification',\n",
              " 'First Line Designation']"
            ]
          },
          "metadata": {},
          "execution_count": 32
        }
      ],
      "source": [
        "catg_lessno_unique = [i for i in catg_cols if len(df[i].unique())<=15]\n",
        "catg_lessno_unique"
      ]
    },
    {
      "cell_type": "code",
      "execution_count": 33,
      "metadata": {
        "colab": {
          "base_uri": "https://localhost:8080/"
        },
        "id": "0oysflS-0D-C",
        "outputId": "0926b62d-cdd5-44b9-ede2-182772107330"
      },
      "outputs": [
        {
          "output_type": "stream",
          "name": "stdout",
          "text": [
            "PMO - US              8537\n",
            "Haiti Field Office       1\n",
            "Name: Managed By, dtype: int64\n",
            "From RDC       5088\n",
            "Direct Drop    3450\n",
            "Name: Fulfill Via, dtype: int64\n",
            "N/A - From RDC    5088\n",
            "EXW               2575\n",
            "FCA                367\n",
            "DDP                320\n",
            "CIP                178\n",
            "DAP                  5\n",
            "DDU                  3\n",
            "CIF                  2\n",
            "Name: Vendor INCO Term, dtype: int64\n",
            "Air            5509\n",
            "Truck          1820\n",
            "Air Charter     576\n",
            "Ocean           322\n",
            "Name: Shipment Mode, dtype: int64\n",
            "ARV     6960\n",
            "HRDT    1534\n",
            "ANTM      22\n",
            "ACT       16\n",
            "MRDT       6\n",
            "Name: Product Group, dtype: int64\n",
            "Adult                   5474\n",
            "Pediatric               1486\n",
            "HIV test                1429\n",
            "HIV test - Ancillary     105\n",
            "Malaria                   28\n",
            "ACT                       16\n",
            "Name: Sub Classification, dtype: int64\n",
            "Yes    6198\n",
            "No     2340\n",
            "Name: First Line Designation, dtype: int64\n"
          ]
        }
      ],
      "source": [
        "for i in catg_lessno_unique:\n",
        "    print(df[i].value_counts())"
      ]
    },
    {
      "cell_type": "code",
      "execution_count": 34,
      "metadata": {
        "colab": {
          "base_uri": "https://localhost:8080/"
        },
        "id": "qdfl-lUX0D-D",
        "outputId": "b446d41b-69fe-43aa-f85f-19c837612ea0"
      },
      "outputs": [
        {
          "output_type": "execute_result",
          "data": {
            "text/plain": [
              "(8538, 34)"
            ]
          },
          "metadata": {},
          "execution_count": 34
        }
      ],
      "source": [
        "df.shape"
      ]
    },
    {
      "cell_type": "code",
      "execution_count": 35,
      "metadata": {
        "colab": {
          "base_uri": "https://localhost:8080/"
        },
        "id": "PCMhoWil0D-D",
        "outputId": "004d72fc-7d19-455d-de46-a033be041b81"
      },
      "outputs": [
        {
          "output_type": "stream",
          "name": "stdout",
          "text": [
            "<class 'pandas.core.frame.DataFrame'>\n",
            "RangeIndex: 8538 entries, 0 to 8537\n",
            "Data columns (total 34 columns):\n",
            " #   Column                        Non-Null Count  Dtype  \n",
            "---  ------                        --------------  -----  \n",
            " 0   ID                            8538 non-null   int64  \n",
            " 1   Project Code                  8538 non-null   object \n",
            " 2   PQ #                          8538 non-null   object \n",
            " 3   PO / SO #                     8538 non-null   object \n",
            " 4   ASN/DN #                      8538 non-null   object \n",
            " 5   Country                       8538 non-null   object \n",
            " 6   Managed By                    8538 non-null   object \n",
            " 7   Fulfill Via                   8538 non-null   object \n",
            " 8   Vendor INCO Term              8538 non-null   object \n",
            " 9   Shipment Mode                 8227 non-null   object \n",
            " 10  PQ First Sent to Client Date  8538 non-null   object \n",
            " 11  PO Sent to Vendor Date        8538 non-null   object \n",
            " 12  Scheduled Delivery Date       8538 non-null   object \n",
            " 13  Delivered to Client Date      8538 non-null   object \n",
            " 14  Delivery Recorded Date        8538 non-null   object \n",
            " 15  Product Group                 8538 non-null   object \n",
            " 16  Sub Classification            8538 non-null   object \n",
            " 17  Vendor                        8538 non-null   object \n",
            " 18  Item Description              8538 non-null   object \n",
            " 19  Molecule/Test Type            8538 non-null   object \n",
            " 20  Brand                         8538 non-null   object \n",
            " 21  Dosage                        6998 non-null   object \n",
            " 22  Dosage Form                   8538 non-null   object \n",
            " 23  Unit of Measure (Per Pack)    8538 non-null   int64  \n",
            " 24  Line Item Quantity            8538 non-null   int64  \n",
            " 25  Line Item Value               8538 non-null   float64\n",
            " 26  Pack Price                    8538 non-null   float64\n",
            " 27  Unit Price                    8538 non-null   float64\n",
            " 28  Manufacturing Site            8538 non-null   object \n",
            " 29  First Line Designation        8538 non-null   object \n",
            " 30  Weight (Kilograms)            8538 non-null   float64\n",
            " 31  Freight Cost (USD)            8538 non-null   float64\n",
            " 32  Line Item Insurance (USD)     8538 non-null   float64\n",
            " 33  sum                           8538 non-null   float64\n",
            "dtypes: float64(7), int64(3), object(24)\n",
            "memory usage: 2.2+ MB\n"
          ]
        }
      ],
      "source": [
        "df.info()"
      ]
    },
    {
      "cell_type": "code",
      "execution_count": 36,
      "metadata": {
        "colab": {
          "base_uri": "https://localhost:8080/",
          "height": 490
        },
        "id": "UOJ2vfdW0D-E",
        "outputId": "08a6b1dc-21e4-424f-856f-42447347ddb0"
      },
      "outputs": [
        {
          "output_type": "execute_result",
          "data": {
            "text/plain": [
              "        ID Project Code            PQ #   PO / SO # ASN/DN #        Country  \\\n",
              "418   6768   102-GY-T01  Pre-PQ Process  SCMS-12680  ASN-968         Guyana   \n",
              "617  10534   110-ZM-T01  Pre-PQ Process      SO-220     DN-4         Zambia   \n",
              "621  10539   112-NG-T01  Pre-PQ Process      SO-328    DN-22        Nigeria   \n",
              "622  10540   100-CI-T01  Pre-PQ Process      SO-283    DN-16  Côte d'Ivoire   \n",
              "624  10542   113-ZW-T01  Pre-PQ Process      SO-253     DN-5       Zimbabwe   \n",
              "\n",
              "    Managed By  Fulfill Via Vendor INCO Term Shipment Mode  ...  \\\n",
              "418   PMO - US  Direct Drop              CIF           NaN  ...   \n",
              "617   PMO - US     From RDC   N/A - From RDC           NaN  ...   \n",
              "621   PMO - US     From RDC   N/A - From RDC           NaN  ...   \n",
              "622   PMO - US     From RDC   N/A - From RDC           NaN  ...   \n",
              "624   PMO - US     From RDC   N/A - From RDC           NaN  ...   \n",
              "\n",
              "    Line Item Quantity Line Item Value Pack Price Unit Price  \\\n",
              "418                390        14625.00      37.50       1.50   \n",
              "617                228        17948.16      78.72       0.29   \n",
              "621               5151       105595.50      20.50       0.17   \n",
              "622               2230        22857.50      10.25       0.17   \n",
              "624               1050        17062.50      16.25       0.54   \n",
              "\n",
              "                Manufacturing Site First Line Designation Weight (Kilograms)  \\\n",
              "418                 Not Applicable                    Yes             186.25   \n",
              "617                   Roche Madrid                    Yes            1218.91   \n",
              "621  Aspen-OSD, Port Elizabeth, SA                    Yes            2921.00   \n",
              "622      Aurobindo Unit III, India                    Yes            2804.00   \n",
              "624      Aurobindo Unit III, India                    Yes            1428.67   \n",
              "\n",
              "    Freight Cost (USD) Line Item Insurance (USD)        sum  \n",
              "418             186.25                 23.400000   14811.25  \n",
              "617            1218.91                 55.445917   19167.07  \n",
              "621            2921.00                176.143231  108516.50  \n",
              "622            2804.00                 60.763684   25661.50  \n",
              "624            1428.67                 54.006490   18491.17  \n",
              "\n",
              "[5 rows x 34 columns]"
            ],
            "text/html": [
              "\n",
              "  <div id=\"df-5f179fcf-aa74-4eb2-b98e-d68e41455c73\">\n",
              "    <div class=\"colab-df-container\">\n",
              "      <div>\n",
              "<style scoped>\n",
              "    .dataframe tbody tr th:only-of-type {\n",
              "        vertical-align: middle;\n",
              "    }\n",
              "\n",
              "    .dataframe tbody tr th {\n",
              "        vertical-align: top;\n",
              "    }\n",
              "\n",
              "    .dataframe thead th {\n",
              "        text-align: right;\n",
              "    }\n",
              "</style>\n",
              "<table border=\"1\" class=\"dataframe\">\n",
              "  <thead>\n",
              "    <tr style=\"text-align: right;\">\n",
              "      <th></th>\n",
              "      <th>ID</th>\n",
              "      <th>Project Code</th>\n",
              "      <th>PQ #</th>\n",
              "      <th>PO / SO #</th>\n",
              "      <th>ASN/DN #</th>\n",
              "      <th>Country</th>\n",
              "      <th>Managed By</th>\n",
              "      <th>Fulfill Via</th>\n",
              "      <th>Vendor INCO Term</th>\n",
              "      <th>Shipment Mode</th>\n",
              "      <th>...</th>\n",
              "      <th>Line Item Quantity</th>\n",
              "      <th>Line Item Value</th>\n",
              "      <th>Pack Price</th>\n",
              "      <th>Unit Price</th>\n",
              "      <th>Manufacturing Site</th>\n",
              "      <th>First Line Designation</th>\n",
              "      <th>Weight (Kilograms)</th>\n",
              "      <th>Freight Cost (USD)</th>\n",
              "      <th>Line Item Insurance (USD)</th>\n",
              "      <th>sum</th>\n",
              "    </tr>\n",
              "  </thead>\n",
              "  <tbody>\n",
              "    <tr>\n",
              "      <th>418</th>\n",
              "      <td>6768</td>\n",
              "      <td>102-GY-T01</td>\n",
              "      <td>Pre-PQ Process</td>\n",
              "      <td>SCMS-12680</td>\n",
              "      <td>ASN-968</td>\n",
              "      <td>Guyana</td>\n",
              "      <td>PMO - US</td>\n",
              "      <td>Direct Drop</td>\n",
              "      <td>CIF</td>\n",
              "      <td>NaN</td>\n",
              "      <td>...</td>\n",
              "      <td>390</td>\n",
              "      <td>14625.00</td>\n",
              "      <td>37.50</td>\n",
              "      <td>1.50</td>\n",
              "      <td>Not Applicable</td>\n",
              "      <td>Yes</td>\n",
              "      <td>186.25</td>\n",
              "      <td>186.25</td>\n",
              "      <td>23.400000</td>\n",
              "      <td>14811.25</td>\n",
              "    </tr>\n",
              "    <tr>\n",
              "      <th>617</th>\n",
              "      <td>10534</td>\n",
              "      <td>110-ZM-T01</td>\n",
              "      <td>Pre-PQ Process</td>\n",
              "      <td>SO-220</td>\n",
              "      <td>DN-4</td>\n",
              "      <td>Zambia</td>\n",
              "      <td>PMO - US</td>\n",
              "      <td>From RDC</td>\n",
              "      <td>N/A - From RDC</td>\n",
              "      <td>NaN</td>\n",
              "      <td>...</td>\n",
              "      <td>228</td>\n",
              "      <td>17948.16</td>\n",
              "      <td>78.72</td>\n",
              "      <td>0.29</td>\n",
              "      <td>Roche Madrid</td>\n",
              "      <td>Yes</td>\n",
              "      <td>1218.91</td>\n",
              "      <td>1218.91</td>\n",
              "      <td>55.445917</td>\n",
              "      <td>19167.07</td>\n",
              "    </tr>\n",
              "    <tr>\n",
              "      <th>621</th>\n",
              "      <td>10539</td>\n",
              "      <td>112-NG-T01</td>\n",
              "      <td>Pre-PQ Process</td>\n",
              "      <td>SO-328</td>\n",
              "      <td>DN-22</td>\n",
              "      <td>Nigeria</td>\n",
              "      <td>PMO - US</td>\n",
              "      <td>From RDC</td>\n",
              "      <td>N/A - From RDC</td>\n",
              "      <td>NaN</td>\n",
              "      <td>...</td>\n",
              "      <td>5151</td>\n",
              "      <td>105595.50</td>\n",
              "      <td>20.50</td>\n",
              "      <td>0.17</td>\n",
              "      <td>Aspen-OSD, Port Elizabeth, SA</td>\n",
              "      <td>Yes</td>\n",
              "      <td>2921.00</td>\n",
              "      <td>2921.00</td>\n",
              "      <td>176.143231</td>\n",
              "      <td>108516.50</td>\n",
              "    </tr>\n",
              "    <tr>\n",
              "      <th>622</th>\n",
              "      <td>10540</td>\n",
              "      <td>100-CI-T01</td>\n",
              "      <td>Pre-PQ Process</td>\n",
              "      <td>SO-283</td>\n",
              "      <td>DN-16</td>\n",
              "      <td>Côte d'Ivoire</td>\n",
              "      <td>PMO - US</td>\n",
              "      <td>From RDC</td>\n",
              "      <td>N/A - From RDC</td>\n",
              "      <td>NaN</td>\n",
              "      <td>...</td>\n",
              "      <td>2230</td>\n",
              "      <td>22857.50</td>\n",
              "      <td>10.25</td>\n",
              "      <td>0.17</td>\n",
              "      <td>Aurobindo Unit III, India</td>\n",
              "      <td>Yes</td>\n",
              "      <td>2804.00</td>\n",
              "      <td>2804.00</td>\n",
              "      <td>60.763684</td>\n",
              "      <td>25661.50</td>\n",
              "    </tr>\n",
              "    <tr>\n",
              "      <th>624</th>\n",
              "      <td>10542</td>\n",
              "      <td>113-ZW-T01</td>\n",
              "      <td>Pre-PQ Process</td>\n",
              "      <td>SO-253</td>\n",
              "      <td>DN-5</td>\n",
              "      <td>Zimbabwe</td>\n",
              "      <td>PMO - US</td>\n",
              "      <td>From RDC</td>\n",
              "      <td>N/A - From RDC</td>\n",
              "      <td>NaN</td>\n",
              "      <td>...</td>\n",
              "      <td>1050</td>\n",
              "      <td>17062.50</td>\n",
              "      <td>16.25</td>\n",
              "      <td>0.54</td>\n",
              "      <td>Aurobindo Unit III, India</td>\n",
              "      <td>Yes</td>\n",
              "      <td>1428.67</td>\n",
              "      <td>1428.67</td>\n",
              "      <td>54.006490</td>\n",
              "      <td>18491.17</td>\n",
              "    </tr>\n",
              "  </tbody>\n",
              "</table>\n",
              "<p>5 rows × 34 columns</p>\n",
              "</div>\n",
              "      <button class=\"colab-df-convert\" onclick=\"convertToInteractive('df-5f179fcf-aa74-4eb2-b98e-d68e41455c73')\"\n",
              "              title=\"Convert this dataframe to an interactive table.\"\n",
              "              style=\"display:none;\">\n",
              "        \n",
              "  <svg xmlns=\"http://www.w3.org/2000/svg\" height=\"24px\"viewBox=\"0 0 24 24\"\n",
              "       width=\"24px\">\n",
              "    <path d=\"M0 0h24v24H0V0z\" fill=\"none\"/>\n",
              "    <path d=\"M18.56 5.44l.94 2.06.94-2.06 2.06-.94-2.06-.94-.94-2.06-.94 2.06-2.06.94zm-11 1L8.5 8.5l.94-2.06 2.06-.94-2.06-.94L8.5 2.5l-.94 2.06-2.06.94zm10 10l.94 2.06.94-2.06 2.06-.94-2.06-.94-.94-2.06-.94 2.06-2.06.94z\"/><path d=\"M17.41 7.96l-1.37-1.37c-.4-.4-.92-.59-1.43-.59-.52 0-1.04.2-1.43.59L10.3 9.45l-7.72 7.72c-.78.78-.78 2.05 0 2.83L4 21.41c.39.39.9.59 1.41.59.51 0 1.02-.2 1.41-.59l7.78-7.78 2.81-2.81c.8-.78.8-2.07 0-2.86zM5.41 20L4 18.59l7.72-7.72 1.47 1.35L5.41 20z\"/>\n",
              "  </svg>\n",
              "      </button>\n",
              "      \n",
              "  <style>\n",
              "    .colab-df-container {\n",
              "      display:flex;\n",
              "      flex-wrap:wrap;\n",
              "      gap: 12px;\n",
              "    }\n",
              "\n",
              "    .colab-df-convert {\n",
              "      background-color: #E8F0FE;\n",
              "      border: none;\n",
              "      border-radius: 50%;\n",
              "      cursor: pointer;\n",
              "      display: none;\n",
              "      fill: #1967D2;\n",
              "      height: 32px;\n",
              "      padding: 0 0 0 0;\n",
              "      width: 32px;\n",
              "    }\n",
              "\n",
              "    .colab-df-convert:hover {\n",
              "      background-color: #E2EBFA;\n",
              "      box-shadow: 0px 1px 2px rgba(60, 64, 67, 0.3), 0px 1px 3px 1px rgba(60, 64, 67, 0.15);\n",
              "      fill: #174EA6;\n",
              "    }\n",
              "\n",
              "    [theme=dark] .colab-df-convert {\n",
              "      background-color: #3B4455;\n",
              "      fill: #D2E3FC;\n",
              "    }\n",
              "\n",
              "    [theme=dark] .colab-df-convert:hover {\n",
              "      background-color: #434B5C;\n",
              "      box-shadow: 0px 1px 3px 1px rgba(0, 0, 0, 0.15);\n",
              "      filter: drop-shadow(0px 1px 2px rgba(0, 0, 0, 0.3));\n",
              "      fill: #FFFFFF;\n",
              "    }\n",
              "  </style>\n",
              "\n",
              "      <script>\n",
              "        const buttonEl =\n",
              "          document.querySelector('#df-5f179fcf-aa74-4eb2-b98e-d68e41455c73 button.colab-df-convert');\n",
              "        buttonEl.style.display =\n",
              "          google.colab.kernel.accessAllowed ? 'block' : 'none';\n",
              "\n",
              "        async function convertToInteractive(key) {\n",
              "          const element = document.querySelector('#df-5f179fcf-aa74-4eb2-b98e-d68e41455c73');\n",
              "          const dataTable =\n",
              "            await google.colab.kernel.invokeFunction('convertToInteractive',\n",
              "                                                     [key], {});\n",
              "          if (!dataTable) return;\n",
              "\n",
              "          const docLinkHtml = 'Like what you see? Visit the ' +\n",
              "            '<a target=\"_blank\" href=https://colab.research.google.com/notebooks/data_table.ipynb>data table notebook</a>'\n",
              "            + ' to learn more about interactive tables.';\n",
              "          element.innerHTML = '';\n",
              "          dataTable['output_type'] = 'display_data';\n",
              "          await google.colab.output.renderOutput(dataTable, element);\n",
              "          const docLink = document.createElement('div');\n",
              "          docLink.innerHTML = docLinkHtml;\n",
              "          element.appendChild(docLink);\n",
              "        }\n",
              "      </script>\n",
              "    </div>\n",
              "  </div>\n",
              "  "
            ]
          },
          "metadata": {},
          "execution_count": 36
        }
      ],
      "source": [
        "df[df['Shipment Mode'].isnull()].head()"
      ]
    },
    {
      "cell_type": "code",
      "execution_count": 37,
      "metadata": {
        "colab": {
          "base_uri": "https://localhost:8080/"
        },
        "id": "y-vhAPPB0D-E",
        "outputId": "8781844f-211e-494a-a5af-3862b8986468"
      },
      "outputs": [
        {
          "output_type": "execute_result",
          "data": {
            "text/plain": [
              "Air            5509\n",
              "Truck          1820\n",
              "Air Charter     576\n",
              "Ocean           322\n",
              "Name: Shipment Mode, dtype: int64"
            ]
          },
          "metadata": {},
          "execution_count": 37
        }
      ],
      "source": [
        "df['Shipment Mode'].value_counts()"
      ]
    },
    {
      "cell_type": "markdown",
      "metadata": {
        "id": "kHIHSjrh0D-F"
      },
      "source": [
        "### Imputing Shipment Mode "
      ]
    },
    {
      "cell_type": "code",
      "execution_count": 38,
      "metadata": {
        "colab": {
          "base_uri": "https://localhost:8080/"
        },
        "id": "3knadX3Q0D-F",
        "outputId": "c5c39ceb-8590-4924-81c7-b1651e839575"
      },
      "outputs": [
        {
          "output_type": "execute_result",
          "data": {
            "text/plain": [
              "ID                                 0\n",
              "Project Code                       0\n",
              "PQ #                               0\n",
              "PO / SO #                          0\n",
              "ASN/DN #                           0\n",
              "Country                            0\n",
              "Managed By                         0\n",
              "Fulfill Via                        0\n",
              "Vendor INCO Term                   0\n",
              "Shipment Mode                      0\n",
              "PQ First Sent to Client Date       0\n",
              "PO Sent to Vendor Date             0\n",
              "Scheduled Delivery Date            0\n",
              "Delivered to Client Date           0\n",
              "Delivery Recorded Date             0\n",
              "Product Group                      0\n",
              "Sub Classification                 0\n",
              "Vendor                             0\n",
              "Item Description                   0\n",
              "Molecule/Test Type                 0\n",
              "Brand                              0\n",
              "Dosage                          1540\n",
              "Dosage Form                        0\n",
              "Unit of Measure (Per Pack)         0\n",
              "Line Item Quantity                 0\n",
              "Line Item Value                    0\n",
              "Pack Price                         0\n",
              "Unit Price                         0\n",
              "Manufacturing Site                 0\n",
              "First Line Designation             0\n",
              "Weight (Kilograms)                 0\n",
              "Freight Cost (USD)                 0\n",
              "Line Item Insurance (USD)          0\n",
              "sum                                0\n",
              "dtype: int64"
            ]
          },
          "metadata": {},
          "execution_count": 38
        }
      ],
      "source": [
        "df['Shipment Mode'] = np.where(df['Shipment Mode'].isnull(),\"Missing\",df['Shipment Mode'])\n",
        "df.isnull().sum()"
      ]
    },
    {
      "cell_type": "code",
      "execution_count": 39,
      "metadata": {
        "id": "cFw6YSCN0D-F"
      },
      "outputs": [],
      "source": [
        "df['Dosage']=df['Dosage'].fillna(0)"
      ]
    },
    {
      "cell_type": "code",
      "execution_count": 40,
      "metadata": {
        "colab": {
          "base_uri": "https://localhost:8080/"
        },
        "id": "HIg7qPCl0D-G",
        "outputId": "9288591f-643b-4bf8-8184-b8ec64e38840"
      },
      "outputs": [
        {
          "output_type": "execute_result",
          "data": {
            "text/plain": [
              "ID                              0\n",
              "Project Code                    0\n",
              "PQ #                            0\n",
              "PO / SO #                       0\n",
              "ASN/DN #                        0\n",
              "Country                         0\n",
              "Managed By                      0\n",
              "Fulfill Via                     0\n",
              "Vendor INCO Term                0\n",
              "Shipment Mode                   0\n",
              "PQ First Sent to Client Date    0\n",
              "PO Sent to Vendor Date          0\n",
              "Scheduled Delivery Date         0\n",
              "Delivered to Client Date        0\n",
              "Delivery Recorded Date          0\n",
              "Product Group                   0\n",
              "Sub Classification              0\n",
              "Vendor                          0\n",
              "Item Description                0\n",
              "Molecule/Test Type              0\n",
              "Brand                           0\n",
              "Dosage                          0\n",
              "Dosage Form                     0\n",
              "Unit of Measure (Per Pack)      0\n",
              "Line Item Quantity              0\n",
              "Line Item Value                 0\n",
              "Pack Price                      0\n",
              "Unit Price                      0\n",
              "Manufacturing Site              0\n",
              "First Line Designation          0\n",
              "Weight (Kilograms)              0\n",
              "Freight Cost (USD)              0\n",
              "Line Item Insurance (USD)       0\n",
              "sum                             0\n",
              "dtype: int64"
            ]
          },
          "metadata": {},
          "execution_count": 40
        }
      ],
      "source": [
        "df.isnull().sum()"
      ]
    },
    {
      "cell_type": "code",
      "execution_count": 41,
      "metadata": {
        "colab": {
          "base_uri": "https://localhost:8080/"
        },
        "id": "g4GH0Igx0D-G",
        "outputId": "7aee1f79-a22f-432d-95f2-999c648c99fa"
      },
      "outputs": [
        {
          "output_type": "stream",
          "name": "stdout",
          "text": [
            "<class 'pandas.core.frame.DataFrame'>\n",
            "RangeIndex: 8538 entries, 0 to 8537\n",
            "Data columns (total 34 columns):\n",
            " #   Column                        Non-Null Count  Dtype  \n",
            "---  ------                        --------------  -----  \n",
            " 0   ID                            8538 non-null   int64  \n",
            " 1   Project Code                  8538 non-null   object \n",
            " 2   PQ #                          8538 non-null   object \n",
            " 3   PO / SO #                     8538 non-null   object \n",
            " 4   ASN/DN #                      8538 non-null   object \n",
            " 5   Country                       8538 non-null   object \n",
            " 6   Managed By                    8538 non-null   object \n",
            " 7   Fulfill Via                   8538 non-null   object \n",
            " 8   Vendor INCO Term              8538 non-null   object \n",
            " 9   Shipment Mode                 8538 non-null   object \n",
            " 10  PQ First Sent to Client Date  8538 non-null   object \n",
            " 11  PO Sent to Vendor Date        8538 non-null   object \n",
            " 12  Scheduled Delivery Date       8538 non-null   object \n",
            " 13  Delivered to Client Date      8538 non-null   object \n",
            " 14  Delivery Recorded Date        8538 non-null   object \n",
            " 15  Product Group                 8538 non-null   object \n",
            " 16  Sub Classification            8538 non-null   object \n",
            " 17  Vendor                        8538 non-null   object \n",
            " 18  Item Description              8538 non-null   object \n",
            " 19  Molecule/Test Type            8538 non-null   object \n",
            " 20  Brand                         8538 non-null   object \n",
            " 21  Dosage                        8538 non-null   object \n",
            " 22  Dosage Form                   8538 non-null   object \n",
            " 23  Unit of Measure (Per Pack)    8538 non-null   int64  \n",
            " 24  Line Item Quantity            8538 non-null   int64  \n",
            " 25  Line Item Value               8538 non-null   float64\n",
            " 26  Pack Price                    8538 non-null   float64\n",
            " 27  Unit Price                    8538 non-null   float64\n",
            " 28  Manufacturing Site            8538 non-null   object \n",
            " 29  First Line Designation        8538 non-null   object \n",
            " 30  Weight (Kilograms)            8538 non-null   float64\n",
            " 31  Freight Cost (USD)            8538 non-null   float64\n",
            " 32  Line Item Insurance (USD)     8538 non-null   float64\n",
            " 33  sum                           8538 non-null   float64\n",
            "dtypes: float64(7), int64(3), object(24)\n",
            "memory usage: 2.2+ MB\n"
          ]
        }
      ],
      "source": [
        "df.info()"
      ]
    },
    {
      "cell_type": "code",
      "execution_count": 42,
      "metadata": {
        "id": "CkUSN1sQ0D-H"
      },
      "outputs": [],
      "source": [
        "df.drop('sum',axis=1,inplace=True)"
      ]
    },
    {
      "cell_type": "code",
      "execution_count": 43,
      "metadata": {
        "id": "hYunmA160D-H"
      },
      "outputs": [],
      "source": [
        "## converting the features such as Scheduled Delivery Date,Delivered to Client Date and Delivery Recorded Date to datetime\n",
        "\n",
        "df['Scheduled Delivery Date'] = pd.to_datetime(df['Scheduled Delivery Date'])\n",
        "df['Delivered to Client Date'] = pd.to_datetime(df['Delivered to Client Date'])\n",
        "df['Delivery Recorded Date'] = pd.to_datetime(df['Delivery Recorded Date'])"
      ]
    },
    {
      "cell_type": "code",
      "execution_count": 44,
      "metadata": {
        "colab": {
          "base_uri": "https://localhost:8080/"
        },
        "id": "heXFLcnO0D-I",
        "outputId": "80cbb75c-6785-4bb1-afa7-2463be69a8a9"
      },
      "outputs": [
        {
          "output_type": "stream",
          "name": "stdout",
          "text": [
            "<class 'pandas.core.frame.DataFrame'>\n",
            "RangeIndex: 8538 entries, 0 to 8537\n",
            "Data columns (total 33 columns):\n",
            " #   Column                        Non-Null Count  Dtype         \n",
            "---  ------                        --------------  -----         \n",
            " 0   ID                            8538 non-null   int64         \n",
            " 1   Project Code                  8538 non-null   object        \n",
            " 2   PQ #                          8538 non-null   object        \n",
            " 3   PO / SO #                     8538 non-null   object        \n",
            " 4   ASN/DN #                      8538 non-null   object        \n",
            " 5   Country                       8538 non-null   object        \n",
            " 6   Managed By                    8538 non-null   object        \n",
            " 7   Fulfill Via                   8538 non-null   object        \n",
            " 8   Vendor INCO Term              8538 non-null   object        \n",
            " 9   Shipment Mode                 8538 non-null   object        \n",
            " 10  PQ First Sent to Client Date  8538 non-null   object        \n",
            " 11  PO Sent to Vendor Date        8538 non-null   object        \n",
            " 12  Scheduled Delivery Date       8538 non-null   datetime64[ns]\n",
            " 13  Delivered to Client Date      8538 non-null   datetime64[ns]\n",
            " 14  Delivery Recorded Date        8538 non-null   datetime64[ns]\n",
            " 15  Product Group                 8538 non-null   object        \n",
            " 16  Sub Classification            8538 non-null   object        \n",
            " 17  Vendor                        8538 non-null   object        \n",
            " 18  Item Description              8538 non-null   object        \n",
            " 19  Molecule/Test Type            8538 non-null   object        \n",
            " 20  Brand                         8538 non-null   object        \n",
            " 21  Dosage                        8538 non-null   object        \n",
            " 22  Dosage Form                   8538 non-null   object        \n",
            " 23  Unit of Measure (Per Pack)    8538 non-null   int64         \n",
            " 24  Line Item Quantity            8538 non-null   int64         \n",
            " 25  Line Item Value               8538 non-null   float64       \n",
            " 26  Pack Price                    8538 non-null   float64       \n",
            " 27  Unit Price                    8538 non-null   float64       \n",
            " 28  Manufacturing Site            8538 non-null   object        \n",
            " 29  First Line Designation        8538 non-null   object        \n",
            " 30  Weight (Kilograms)            8538 non-null   float64       \n",
            " 31  Freight Cost (USD)            8538 non-null   float64       \n",
            " 32  Line Item Insurance (USD)     8538 non-null   float64       \n",
            "dtypes: datetime64[ns](3), float64(6), int64(3), object(21)\n",
            "memory usage: 2.1+ MB\n"
          ]
        }
      ],
      "source": [
        "df.info()"
      ]
    },
    {
      "cell_type": "code",
      "execution_count": 45,
      "metadata": {
        "id": "wowb2L8p0D-I"
      },
      "outputs": [],
      "source": [
        "df.to_csv('cleaned_data.csv',index=False)"
      ]
    },
    {
      "cell_type": "code",
      "source": [
        ""
      ],
      "metadata": {
        "id": "jzLP6CPW3dOk"
      },
      "execution_count": null,
      "outputs": []
    }
  ],
  "metadata": {
    "colab": {
      "collapsed_sections": [],
      "name": "Shipment_price_cleaning (1).ipynb",
      "provenance": []
    },
    "kernelspec": {
      "display_name": "Python 3",
      "language": "python",
      "name": "python3"
    },
    "language_info": {
      "codemirror_mode": {
        "name": "ipython",
        "version": 3
      },
      "file_extension": ".py",
      "mimetype": "text/x-python",
      "name": "python",
      "nbconvert_exporter": "python",
      "pygments_lexer": "ipython3",
      "version": "3.8.5"
    }
  },
  "nbformat": 4,
  "nbformat_minor": 0
}